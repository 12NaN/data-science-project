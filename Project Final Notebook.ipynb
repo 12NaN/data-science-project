{
  "nbformat": 4,
  "nbformat_minor": 0,
  "metadata": {
    "anaconda-cloud": {},
    "colab": {
      "name": "Project(Occurances_test).ipynb",
      "provenance": [],
      "collapsed_sections": []
    },
    "kernelspec": {
      "display_name": "Python 3",
      "language": "python",
      "name": "python3"
    },
    "language_info": {
      "codemirror_mode": {
        "name": "ipython",
        "version": 3
      },
      "file_extension": ".py",
      "mimetype": "text/x-python",
      "name": "python",
      "nbconvert_exporter": "python",
      "pygments_lexer": "ipython3",
      "version": "3.6.4"
    }
  },
  "cells": [
    {
      "cell_type": "markdown",
      "metadata": {
        "colab_type": "text",
        "id": "hXnG0AmKNJaf"
      },
      "source": [
        "# Project Demo\n",
        "\n",
        "This demo is designed to provide some general tips and tricks for the ITDS Fall 2019 project. For full details on the project, please refer to [the project requirements](https://grantmlong.com/teaching/fall2019/project/Project-ITDS-Fall-2019.pdf).\n",
        "\n",
        "***\n",
        "This demo uses `scikit-learn`, but by no means are you required to use this or any other particular package.\n",
        "\n"
      ]
    },
    {
      "cell_type": "code",
      "metadata": {
        "colab_type": "code",
        "id": "frkfBGXgNJaj",
        "colab": {}
      },
      "source": [
        "import pandas as pd\n",
        "import numpy as np\n",
        "import re\n",
        "from google.colab import files\n",
        "import matplotlib.pyplot as plt \n",
        "from sklearn.linear_model import LinearRegression\n",
        "import seaborn as sns\n",
        "import io\n",
        "%matplotlib inline\n",
        "from sklearn.metrics import mean_squared_error\n",
        "from sklearn.ensemble import RandomForestRegressor\n",
        "from sklearn.ensemble import GradientBoostingRegressor\n"
      ],
      "execution_count": 0,
      "outputs": []
    },
    {
      "cell_type": "code",
      "metadata": {
        "colab_type": "code",
        "id": "2KBvesiPNJas",
        "colab": {}
      },
      "source": [
        "train_df = pd.read_csv('https://grantmlong.com/data/SE_rents2018_train.csv', index_col=0)\n",
        "test_df = pd.read_csv('https://grantmlong.com/data/SE_rents2018_test1.csv', index_col=0)\n",
        "submit1_df = pd.read_csv('https://grantmlong.com/data/SE_rents2018_test2.csv', index_col=0)\n",
        "submit2_df = pd.read_csv('https://grantmlong.com/data/SE_rents2018_test3.csv', index_col=0)\n",
        "schools_df = pd.read_csv('https://raw.githubusercontent.com/12NaN/data-science-project/master/Data/school_data.csv',index_col=0)\n",
        "\n",
        "\n",
        "train_df = train_df.reset_index().merge(schools_df, on='addr_zip', how='left').set_index(train_df.index.names)\n",
        "test_df = test_df.reset_index().merge(schools_df, on='addr_zip', how='left').set_index(test_df.index.names)\n",
        "\n",
        "submit1_df = submit1_df.reset_index().merge(schools_df, on='addr_zip', how='left').set_index(submit1_df.index.names)\n",
        "submit2_df = submit2_df.reset_index().merge(schools_df, on='addr_zip', how='left').set_index(submit2_df.index.names)\n",
        "\n",
        "\n",
        "train_df = train_df.drop(train_df[(train_df['size_sqft']>8000) & (train_df['rent']<10000)].index)\n",
        "train_df = train_df.drop(train_df[(train_df['bathrooms']>=12) & (train_df['rent']<10000)].index)\n",
        "\n",
        "train_df = train_df.drop(train_df[(train_df['bathrooms']==6) & (train_df['rent']<20000)].index)\n",
        "\n",
        "train_df = train_df.drop(train_df[(train_df['bedrooms']>=8) & (train_df['rent']<20000)].index)\n",
        "\n",
        "\n",
        "cf = submit1_df #retaining the dataframe in cf instead incase I want to look at the original without edits\n",
        "cf.min_to_subway = cf.min_to_subway.fillna(cf.min_to_subway.mean(), axis=0) #Replacing empty values with the mean of the entire column\n",
        "cf.year_built = cf.year_built.fillna(cf.year_built.median(), axis=0) #Replacing empty values with the median of the entire column\n",
        "cf.loc[cf['size_sqft']==0,'size_sqft'] = np.nan #Changing data with 0 as sqrt feet to nans\n",
        "cf.size_sqft = cf.size_sqft.fillna(cf.size_sqft.mean(), axis=0) #Nan values of sqrt feet to mean of column\n",
        "\n",
        "\n",
        "cf2 = submit2_df #retaining the dataframe in cf instead incase I want to look at the original without edits\n",
        "cf2.min_to_subway = cf2.min_to_subway.fillna(cf2.min_to_subway.mean(), axis=0) #Replacing empty values with the mean of the entire column\n",
        "cf2.year_built = cf2.year_built.fillna(cf2.year_built.median(), axis=0) #Replacing empty values with the median of the entire column\n",
        "cf2.loc[cf2['size_sqft']==0,'size_sqft'] = np.nan #Changing data with 0 as sqrt feet to nans\n",
        "cf2.size_sqft = cf2.size_sqft.fillna(cf2.size_sqft.mean(), axis=0) #Nan values of sqrt feet to mean of column\n"
      ],
      "execution_count": 0,
      "outputs": []
    },
    {
      "cell_type": "code",
      "metadata": {
        "colab_type": "code",
        "id": "4L5DhAwlUTj8",
        "outputId": "da6ef34f-c1b2-4bd4-c36b-24c31ae5051e",
        "colab": {
          "base_uri": "https://localhost:8080/",
          "height": 90
        }
      },
      "source": [
        "print(len(test_df))\n",
        "print(len(train_df))\n",
        "print(len(submit1_df))\n",
        "print(len(submit2_df))"
      ],
      "execution_count": 21,
      "outputs": [
        {
          "output_type": "stream",
          "text": [
            "2000\n",
            "11990\n",
            "2000\n",
            "2000\n"
          ],
          "name": "stdout"
        }
      ]
    },
    {
      "cell_type": "markdown",
      "metadata": {
        "colab_type": "text",
        "id": "Hnpw1gg3NJaz"
      },
      "source": [
        "#### Build training data"
      ]
    },
    {
      "cell_type": "code",
      "metadata": {
        "colab_type": "code",
        "id": "ISjYnltgNJa0",
        "colab": {}
      },
      "source": [
        "# extract usable features\n",
        "feature_cols = [\n",
        "    'bedrooms', 'year_built', 'bathrooms', 'min_to_subway', \n",
        "    'size_sqft', 'no_fee', 'has_doorman', 'Occurrences'\n",
        "]\n",
        "#Year build and minute values are the only features with missing values\n",
        "train_features = train_df[feature_cols] \n",
        "\n",
        "# impute missing values with medians\n",
        "train_features = train_features.fillna(train_features.median(), axis=0)\n",
        "\n",
        "# construct target vector\n",
        "train_target = train_df['rent']"
      ],
      "execution_count": 0,
      "outputs": []
    },
    {
      "cell_type": "markdown",
      "metadata": {
        "colab_type": "text",
        "id": "3Ul2DHJgNJa8"
      },
      "source": [
        "#### Fit model"
      ]
    },
    {
      "cell_type": "code",
      "metadata": {
        "colab_type": "code",
        "id": "cE1mSw8DNJa-",
        "outputId": "017ea903-b4e7-45b6-f902-a61baac2069a",
        "colab": {
          "base_uri": "https://localhost:8080/",
          "height": 217
        }
      },
      "source": [
        "lreg = LinearRegression()\n",
        "lreg.fit(train_features, train_target)\n",
        "\n",
        "rf = RandomForestRegressor()\n",
        "rf.fit(train_features, train_target)\n",
        "\n",
        "gbr = GradientBoostingRegressor()\n",
        "gbr.fit(train_features,train_target)"
      ],
      "execution_count": 23,
      "outputs": [
        {
          "output_type": "stream",
          "text": [
            "/usr/local/lib/python3.6/dist-packages/sklearn/ensemble/forest.py:245: FutureWarning: The default value of n_estimators will change from 10 in version 0.20 to 100 in 0.22.\n",
            "  \"10 in version 0.20 to 100 in 0.22.\", FutureWarning)\n"
          ],
          "name": "stderr"
        },
        {
          "output_type": "execute_result",
          "data": {
            "text/plain": [
              "GradientBoostingRegressor(alpha=0.9, criterion='friedman_mse', init=None,\n",
              "                          learning_rate=0.1, loss='ls', max_depth=3,\n",
              "                          max_features=None, max_leaf_nodes=None,\n",
              "                          min_impurity_decrease=0.0, min_impurity_split=None,\n",
              "                          min_samples_leaf=1, min_samples_split=2,\n",
              "                          min_weight_fraction_leaf=0.0, n_estimators=100,\n",
              "                          n_iter_no_change=None, presort='auto',\n",
              "                          random_state=None, subsample=1.0, tol=0.0001,\n",
              "                          validation_fraction=0.1, verbose=0, warm_start=False)"
            ]
          },
          "metadata": {
            "tags": []
          },
          "execution_count": 23
        }
      ]
    },
    {
      "cell_type": "markdown",
      "metadata": {
        "colab_type": "text",
        "id": "AN2vGTFrNJbD"
      },
      "source": [
        "#### Predict and Measure Using Test 1"
      ]
    },
    {
      "cell_type": "code",
      "metadata": {
        "colab_type": "code",
        "id": "UC7Shzr5NJbF",
        "outputId": "015e1f71-3ba6-4e8f-fd07-c05196cf04dd",
        "colab": {
          "base_uri": "https://localhost:8080/",
          "height": 35
        }
      },
      "source": [
        "test_features = test_df[feature_cols] \n",
        "\n",
        "# impute missing values with medians\n",
        "test_features = test_features.fillna(train_features.median(), axis=0)\n",
        "\n",
        "# construct predictions \n",
        "test_df['predicted'] = gbr.predict(test_features)\n",
        "\n",
        "mean_squared_error(test_df['rent'], test_df['predicted'])"
      ],
      "execution_count": 24,
      "outputs": [
        {
          "output_type": "execute_result",
          "data": {
            "text/plain": [
              "2412238.3627237626"
            ]
          },
          "metadata": {
            "tags": []
          },
          "execution_count": 24
        }
      ]
    },
    {
      "cell_type": "markdown",
      "metadata": {
        "colab_type": "text",
        "id": "bC7xjDkVNJbK"
      },
      "source": [
        "#### Combine Data, Predict Values for Test 2"
      ]
    },
    {
      "cell_type": "code",
      "metadata": {
        "colab_type": "code",
        "id": "opX2Oe4INJbM",
        "outputId": "e2af5405-9cdd-4427-8f23-1beb5fa2d8d1",
        "colab": {
          "base_uri": "https://localhost:8080/",
          "height": 181
        }
      },
      "source": [
        "master_df = train_df.append(test_df, sort=False)\n",
        "\n",
        "master_df.loc[master_df['size_sqft']==0,'size_sqft'] = np.nan\n",
        "master_df.size_sqft = master_df.size_sqft.fillna(master_df.size_sqft.mean(), axis=0)\n",
        "\n",
        "master_features = master_df[feature_cols].fillna(master_df[feature_cols].median(), axis=0)\n",
        "master_target = master_df['rent']\n",
        "\n",
        "gbr.fit(master_features, master_target)\n"
      ],
      "execution_count": 25,
      "outputs": [
        {
          "output_type": "execute_result",
          "data": {
            "text/plain": [
              "GradientBoostingRegressor(alpha=0.9, criterion='friedman_mse', init=None,\n",
              "                          learning_rate=0.1, loss='ls', max_depth=3,\n",
              "                          max_features=None, max_leaf_nodes=None,\n",
              "                          min_impurity_decrease=0.0, min_impurity_split=None,\n",
              "                          min_samples_leaf=1, min_samples_split=2,\n",
              "                          min_weight_fraction_leaf=0.0, n_estimators=100,\n",
              "                          n_iter_no_change=None, presort='auto',\n",
              "                          random_state=None, subsample=1.0, tol=0.0001,\n",
              "                          validation_fraction=0.1, verbose=0, warm_start=False)"
            ]
          },
          "metadata": {
            "tags": []
          },
          "execution_count": 25
        }
      ]
    },
    {
      "cell_type": "code",
      "metadata": {
        "colab_type": "code",
        "id": "WDiqgCapMEL7",
        "outputId": "0da69c43-2e87-4197-f214-5840df5b811e",
        "colab": {
          "base_uri": "https://localhost:8080/",
          "height": 254
        }
      },
      "source": [
        "print(cf['rent'].value_counts) #Confirming missing rent values have proper index due to previous issue"
      ],
      "execution_count": 8,
      "outputs": [
        {
          "output_type": "stream",
          "text": [
            "<bound method IndexOpsMixin.value_counts of rental_id\n",
            "7428577   NaN\n",
            "7454944   NaN\n",
            "7473595   NaN\n",
            "7490488   NaN\n",
            "7460896   NaN\n",
            "           ..\n",
            "7451410   NaN\n",
            "7493779   NaN\n",
            "7474525   NaN\n",
            "7507738   NaN\n",
            "7443274   NaN\n",
            "Name: rent, Length: 2000, dtype: float64>\n"
          ],
          "name": "stdout"
        }
      ]
    },
    {
      "cell_type": "markdown",
      "metadata": {
        "colab_type": "text",
        "id": "nt_n1cNPNJbS"
      },
      "source": [
        "#### Create Submission File for `test2`"
      ]
    },
    {
      "cell_type": "code",
      "metadata": {
        "colab_type": "code",
        "id": "DdWrAsSlNJbT",
        "outputId": "04f9294f-c040-43f1-e307-cb6e82c8bfd4",
        "colab": {
          "base_uri": "https://localhost:8080/",
          "height": 35
        }
      },
      "source": [
        "submit1_features = cf[feature_cols].fillna(master_df[feature_cols].median(), axis=0)\n",
        "cf['predictions'] = gbr.predict(submit1_features)\n",
        "cf['predictions'].to_csv('sample_submission1.csv', header=True)\n",
        "\n",
        "cf['fake_rent'] = np.ones(cf['predictions'].shape) * master_target.median()\n",
        "mean_squared_error(cf['predictions'], test_df['rent'])"
      ],
      "execution_count": 26,
      "outputs": [
        {
          "output_type": "execute_result",
          "data": {
            "text/plain": [
              "13845229.534566218"
            ]
          },
          "metadata": {
            "tags": []
          },
          "execution_count": 26
        }
      ]
    },
    {
      "cell_type": "code",
      "metadata": {
        "colab_type": "code",
        "id": "cFtf0_JK64j0",
        "outputId": "b2c23227-7522-4607-e97e-89c96c0dad45",
        "colab": {
          "base_uri": "https://localhost:8080/",
          "height": 437
        }
      },
      "source": [
        "submit1_df[feature_cols+['predictions']] #Checking predictions"
      ],
      "execution_count": 27,
      "outputs": [
        {
          "output_type": "execute_result",
          "data": {
            "text/html": [
              "<div>\n",
              "<style scoped>\n",
              "    .dataframe tbody tr th:only-of-type {\n",
              "        vertical-align: middle;\n",
              "    }\n",
              "\n",
              "    .dataframe tbody tr th {\n",
              "        vertical-align: top;\n",
              "    }\n",
              "\n",
              "    .dataframe thead th {\n",
              "        text-align: right;\n",
              "    }\n",
              "</style>\n",
              "<table border=\"1\" class=\"dataframe\">\n",
              "  <thead>\n",
              "    <tr style=\"text-align: right;\">\n",
              "      <th></th>\n",
              "      <th>bedrooms</th>\n",
              "      <th>year_built</th>\n",
              "      <th>bathrooms</th>\n",
              "      <th>min_to_subway</th>\n",
              "      <th>size_sqft</th>\n",
              "      <th>no_fee</th>\n",
              "      <th>has_doorman</th>\n",
              "      <th>Occurrences</th>\n",
              "      <th>predictions</th>\n",
              "    </tr>\n",
              "    <tr>\n",
              "      <th>rental_id</th>\n",
              "      <th></th>\n",
              "      <th></th>\n",
              "      <th></th>\n",
              "      <th></th>\n",
              "      <th></th>\n",
              "      <th></th>\n",
              "      <th></th>\n",
              "      <th></th>\n",
              "      <th></th>\n",
              "    </tr>\n",
              "  </thead>\n",
              "  <tbody>\n",
              "    <tr>\n",
              "      <th>7428577</th>\n",
              "      <td>0</td>\n",
              "      <td>1931.0</td>\n",
              "      <td>1.0</td>\n",
              "      <td>0.6000</td>\n",
              "      <td>450.000000</td>\n",
              "      <td>0</td>\n",
              "      <td>0</td>\n",
              "      <td>11.0</td>\n",
              "      <td>2333.203714</td>\n",
              "    </tr>\n",
              "    <tr>\n",
              "      <th>7454944</th>\n",
              "      <td>2</td>\n",
              "      <td>1960.0</td>\n",
              "      <td>1.0</td>\n",
              "      <td>27.1500</td>\n",
              "      <td>950.000000</td>\n",
              "      <td>0</td>\n",
              "      <td>0</td>\n",
              "      <td>NaN</td>\n",
              "      <td>2266.050224</td>\n",
              "    </tr>\n",
              "    <tr>\n",
              "      <th>7473595</th>\n",
              "      <td>1</td>\n",
              "      <td>1934.0</td>\n",
              "      <td>1.0</td>\n",
              "      <td>2.8000</td>\n",
              "      <td>914.956665</td>\n",
              "      <td>1</td>\n",
              "      <td>0</td>\n",
              "      <td>NaN</td>\n",
              "      <td>2684.503140</td>\n",
              "    </tr>\n",
              "    <tr>\n",
              "      <th>7490488</th>\n",
              "      <td>2</td>\n",
              "      <td>2017.0</td>\n",
              "      <td>1.0</td>\n",
              "      <td>2.2833</td>\n",
              "      <td>500.000000</td>\n",
              "      <td>1</td>\n",
              "      <td>0</td>\n",
              "      <td>5.0</td>\n",
              "      <td>2570.065127</td>\n",
              "    </tr>\n",
              "    <tr>\n",
              "      <th>7460896</th>\n",
              "      <td>1</td>\n",
              "      <td>2010.0</td>\n",
              "      <td>1.0</td>\n",
              "      <td>10.4833</td>\n",
              "      <td>610.000000</td>\n",
              "      <td>1</td>\n",
              "      <td>0</td>\n",
              "      <td>1.0</td>\n",
              "      <td>2344.601708</td>\n",
              "    </tr>\n",
              "    <tr>\n",
              "      <th>...</th>\n",
              "      <td>...</td>\n",
              "      <td>...</td>\n",
              "      <td>...</td>\n",
              "      <td>...</td>\n",
              "      <td>...</td>\n",
              "      <td>...</td>\n",
              "      <td>...</td>\n",
              "      <td>...</td>\n",
              "      <td>...</td>\n",
              "    </tr>\n",
              "    <tr>\n",
              "      <th>7451410</th>\n",
              "      <td>0</td>\n",
              "      <td>1920.0</td>\n",
              "      <td>1.0</td>\n",
              "      <td>4.0333</td>\n",
              "      <td>600.000000</td>\n",
              "      <td>0</td>\n",
              "      <td>0</td>\n",
              "      <td>NaN</td>\n",
              "      <td>2097.788498</td>\n",
              "    </tr>\n",
              "    <tr>\n",
              "      <th>7493779</th>\n",
              "      <td>1</td>\n",
              "      <td>1900.0</td>\n",
              "      <td>1.0</td>\n",
              "      <td>1.6000</td>\n",
              "      <td>914.956665</td>\n",
              "      <td>0</td>\n",
              "      <td>0</td>\n",
              "      <td>11.0</td>\n",
              "      <td>3473.997823</td>\n",
              "    </tr>\n",
              "    <tr>\n",
              "      <th>7474525</th>\n",
              "      <td>1</td>\n",
              "      <td>1920.0</td>\n",
              "      <td>1.0</td>\n",
              "      <td>4.0333</td>\n",
              "      <td>914.956665</td>\n",
              "      <td>0</td>\n",
              "      <td>0</td>\n",
              "      <td>4.0</td>\n",
              "      <td>2581.326733</td>\n",
              "    </tr>\n",
              "    <tr>\n",
              "      <th>7507738</th>\n",
              "      <td>1</td>\n",
              "      <td>2005.0</td>\n",
              "      <td>1.0</td>\n",
              "      <td>1.0500</td>\n",
              "      <td>900.000000</td>\n",
              "      <td>1</td>\n",
              "      <td>0</td>\n",
              "      <td>4.0</td>\n",
              "      <td>2939.343264</td>\n",
              "    </tr>\n",
              "    <tr>\n",
              "      <th>7443274</th>\n",
              "      <td>1</td>\n",
              "      <td>2006.0</td>\n",
              "      <td>1.0</td>\n",
              "      <td>3.1167</td>\n",
              "      <td>600.000000</td>\n",
              "      <td>1</td>\n",
              "      <td>0</td>\n",
              "      <td>NaN</td>\n",
              "      <td>2786.231373</td>\n",
              "    </tr>\n",
              "  </tbody>\n",
              "</table>\n",
              "<p>2000 rows × 9 columns</p>\n",
              "</div>"
            ],
            "text/plain": [
              "           bedrooms  year_built  ...  Occurrences  predictions\n",
              "rental_id                        ...                          \n",
              "7428577           0      1931.0  ...         11.0  2333.203714\n",
              "7454944           2      1960.0  ...          NaN  2266.050224\n",
              "7473595           1      1934.0  ...          NaN  2684.503140\n",
              "7490488           2      2017.0  ...          5.0  2570.065127\n",
              "7460896           1      2010.0  ...          1.0  2344.601708\n",
              "...             ...         ...  ...          ...          ...\n",
              "7451410           0      1920.0  ...          NaN  2097.788498\n",
              "7493779           1      1900.0  ...         11.0  3473.997823\n",
              "7474525           1      1920.0  ...          4.0  2581.326733\n",
              "7507738           1      2005.0  ...          4.0  2939.343264\n",
              "7443274           1      2006.0  ...          NaN  2786.231373\n",
              "\n",
              "[2000 rows x 9 columns]"
            ]
          },
          "metadata": {
            "tags": []
          },
          "execution_count": 27
        }
      ]
    },
    {
      "cell_type": "code",
      "metadata": {
        "colab_type": "code",
        "id": "3QWcLf3uQnPy",
        "colab": {}
      },
      "source": [
        "files.download(\"sample_submission1.csv\") #Downloads file from colab"
      ],
      "execution_count": 0,
      "outputs": []
    },
    {
      "cell_type": "markdown",
      "metadata": {
        "colab_type": "text",
        "id": "MN3ChkeeNJbZ"
      },
      "source": [
        "#### Create Submission File for `test3`"
      ]
    },
    {
      "cell_type": "code",
      "metadata": {
        "colab_type": "code",
        "id": "Gow_xBw2NJbb",
        "outputId": "46fe5fda-d779-43aa-f1d3-3c25279817d7",
        "colab": {
          "base_uri": "https://localhost:8080/",
          "height": 35
        }
      },
      "source": [
        "submit2_features = cf2[feature_cols].fillna(master_df[feature_cols].median(), axis=0)\n",
        "cf2['predictions'] = gbr.predict(submit2_features)\n",
        "cf2['predictions'].to_csv('sample_submission2.csv', header=True)\n",
        "\n",
        "cf2['fake_rent'] = np.ones(cf2['predictions'].shape) * master_target.median()\n",
        "mean_squared_error(cf2['predictions'], test_df['rent'])"
      ],
      "execution_count": 28,
      "outputs": [
        {
          "output_type": "execute_result",
          "data": {
            "text/plain": [
              "12588133.49452935"
            ]
          },
          "metadata": {
            "tags": []
          },
          "execution_count": 28
        }
      ]
    },
    {
      "cell_type": "markdown",
      "metadata": {
        "id": "uUw4_WtvDpfj",
        "colab_type": "raw"
      },
      "source": [
        "submit2_features = submit2_df[feature_cols].fillna(master_df[feature_cols].median(), axis=0)\n",
        "submit2_df['predictions'] = lreg.predict(submit2_features)\n",
        "submit2_df['predictions'].to_csv('sample_submission2.csv', header=True)\n",
        "\n",
        "submit2_df['fake_rent'] = np.ones(submit2_df['predictions'].shape) * master_target.median()\n",
        "mean_squared_error(submit2_df['predictions'], submit2_df['rent'])"
      ]
    },
    {
      "cell_type": "code",
      "metadata": {
        "colab_type": "code",
        "id": "cYrPy6AYNJbe",
        "outputId": "c9fe357d-0b29-493e-c539-bd6a1411ad11",
        "colab": {
          "base_uri": "https://localhost:8080/",
          "height": 437
        }
      },
      "source": [
        "submit2_df[feature_cols+['predictions']] #checking predictions of submit2"
      ],
      "execution_count": 32,
      "outputs": [
        {
          "output_type": "execute_result",
          "data": {
            "text/html": [
              "<div>\n",
              "<style scoped>\n",
              "    .dataframe tbody tr th:only-of-type {\n",
              "        vertical-align: middle;\n",
              "    }\n",
              "\n",
              "    .dataframe tbody tr th {\n",
              "        vertical-align: top;\n",
              "    }\n",
              "\n",
              "    .dataframe thead th {\n",
              "        text-align: right;\n",
              "    }\n",
              "</style>\n",
              "<table border=\"1\" class=\"dataframe\">\n",
              "  <thead>\n",
              "    <tr style=\"text-align: right;\">\n",
              "      <th></th>\n",
              "      <th>bedrooms</th>\n",
              "      <th>year_built</th>\n",
              "      <th>bathrooms</th>\n",
              "      <th>min_to_subway</th>\n",
              "      <th>size_sqft</th>\n",
              "      <th>no_fee</th>\n",
              "      <th>has_doorman</th>\n",
              "      <th>Occurrences</th>\n",
              "      <th>predictions</th>\n",
              "    </tr>\n",
              "    <tr>\n",
              "      <th>rental_id</th>\n",
              "      <th></th>\n",
              "      <th></th>\n",
              "      <th></th>\n",
              "      <th></th>\n",
              "      <th></th>\n",
              "      <th></th>\n",
              "      <th></th>\n",
              "      <th></th>\n",
              "      <th></th>\n",
              "    </tr>\n",
              "  </thead>\n",
              "  <tbody>\n",
              "    <tr>\n",
              "      <th>7455565</th>\n",
              "      <td>4</td>\n",
              "      <td>1931.0</td>\n",
              "      <td>2.0</td>\n",
              "      <td>1.3167</td>\n",
              "      <td>1200.0</td>\n",
              "      <td>1</td>\n",
              "      <td>0</td>\n",
              "      <td>5.0</td>\n",
              "      <td>3696.142802</td>\n",
              "    </tr>\n",
              "    <tr>\n",
              "      <th>7473295</th>\n",
              "      <td>1</td>\n",
              "      <td>1899.0</td>\n",
              "      <td>1.0</td>\n",
              "      <td>1.3167</td>\n",
              "      <td>800.0</td>\n",
              "      <td>1</td>\n",
              "      <td>0</td>\n",
              "      <td>2.0</td>\n",
              "      <td>2697.658193</td>\n",
              "    </tr>\n",
              "    <tr>\n",
              "      <th>7459804</th>\n",
              "      <td>0</td>\n",
              "      <td>2002.0</td>\n",
              "      <td>1.0</td>\n",
              "      <td>7.3500</td>\n",
              "      <td>525.0</td>\n",
              "      <td>1</td>\n",
              "      <td>1</td>\n",
              "      <td>11.0</td>\n",
              "      <td>2926.544422</td>\n",
              "    </tr>\n",
              "    <tr>\n",
              "      <th>7456330</th>\n",
              "      <td>2</td>\n",
              "      <td>1920.0</td>\n",
              "      <td>1.0</td>\n",
              "      <td>1.2333</td>\n",
              "      <td>750.0</td>\n",
              "      <td>0</td>\n",
              "      <td>0</td>\n",
              "      <td>12.0</td>\n",
              "      <td>2802.539904</td>\n",
              "    </tr>\n",
              "    <tr>\n",
              "      <th>7443595</th>\n",
              "      <td>0</td>\n",
              "      <td>1931.0</td>\n",
              "      <td>1.0</td>\n",
              "      <td>0.5833</td>\n",
              "      <td>487.0</td>\n",
              "      <td>1</td>\n",
              "      <td>1</td>\n",
              "      <td>3.0</td>\n",
              "      <td>2928.795385</td>\n",
              "    </tr>\n",
              "    <tr>\n",
              "      <th>...</th>\n",
              "      <td>...</td>\n",
              "      <td>...</td>\n",
              "      <td>...</td>\n",
              "      <td>...</td>\n",
              "      <td>...</td>\n",
              "      <td>...</td>\n",
              "      <td>...</td>\n",
              "      <td>...</td>\n",
              "      <td>...</td>\n",
              "    </tr>\n",
              "    <tr>\n",
              "      <th>7455124</th>\n",
              "      <td>2</td>\n",
              "      <td>1945.0</td>\n",
              "      <td>1.0</td>\n",
              "      <td>8.5667</td>\n",
              "      <td>1000.0</td>\n",
              "      <td>0</td>\n",
              "      <td>0</td>\n",
              "      <td>NaN</td>\n",
              "      <td>2325.146788</td>\n",
              "    </tr>\n",
              "    <tr>\n",
              "      <th>7443016</th>\n",
              "      <td>1</td>\n",
              "      <td>2010.0</td>\n",
              "      <td>1.0</td>\n",
              "      <td>10.6667</td>\n",
              "      <td>675.0</td>\n",
              "      <td>1</td>\n",
              "      <td>0</td>\n",
              "      <td>NaN</td>\n",
              "      <td>2498.096458</td>\n",
              "    </tr>\n",
              "    <tr>\n",
              "      <th>7480876</th>\n",
              "      <td>2</td>\n",
              "      <td>1905.0</td>\n",
              "      <td>1.0</td>\n",
              "      <td>2.4833</td>\n",
              "      <td>560.0</td>\n",
              "      <td>1</td>\n",
              "      <td>0</td>\n",
              "      <td>8.0</td>\n",
              "      <td>3053.797014</td>\n",
              "    </tr>\n",
              "    <tr>\n",
              "      <th>7443379</th>\n",
              "      <td>3</td>\n",
              "      <td>2009.0</td>\n",
              "      <td>1.0</td>\n",
              "      <td>3.0833</td>\n",
              "      <td>700.0</td>\n",
              "      <td>1</td>\n",
              "      <td>0</td>\n",
              "      <td>5.0</td>\n",
              "      <td>2614.985207</td>\n",
              "    </tr>\n",
              "    <tr>\n",
              "      <th>7450378</th>\n",
              "      <td>2</td>\n",
              "      <td>1965.0</td>\n",
              "      <td>2.0</td>\n",
              "      <td>3.2333</td>\n",
              "      <td>1500.0</td>\n",
              "      <td>1</td>\n",
              "      <td>0</td>\n",
              "      <td>1.0</td>\n",
              "      <td>4941.564761</td>\n",
              "    </tr>\n",
              "  </tbody>\n",
              "</table>\n",
              "<p>2000 rows × 9 columns</p>\n",
              "</div>"
            ],
            "text/plain": [
              "           bedrooms  year_built  ...  Occurrences  predictions\n",
              "rental_id                        ...                          \n",
              "7455565           4      1931.0  ...          5.0  3696.142802\n",
              "7473295           1      1899.0  ...          2.0  2697.658193\n",
              "7459804           0      2002.0  ...         11.0  2926.544422\n",
              "7456330           2      1920.0  ...         12.0  2802.539904\n",
              "7443595           0      1931.0  ...          3.0  2928.795385\n",
              "...             ...         ...  ...          ...          ...\n",
              "7455124           2      1945.0  ...          NaN  2325.146788\n",
              "7443016           1      2010.0  ...          NaN  2498.096458\n",
              "7480876           2      1905.0  ...          8.0  3053.797014\n",
              "7443379           3      2009.0  ...          5.0  2614.985207\n",
              "7450378           2      1965.0  ...          1.0  4941.564761\n",
              "\n",
              "[2000 rows x 9 columns]"
            ]
          },
          "metadata": {
            "tags": []
          },
          "execution_count": 32
        }
      ]
    }
  ]
}
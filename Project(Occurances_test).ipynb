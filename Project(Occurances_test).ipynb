{
  "nbformat": 4,
  "nbformat_minor": 0,
  "metadata": {
    "anaconda-cloud": {},
    "colab": {
      "name": "Project(Occurances_test).ipynb",
      "provenance": [],
      "collapsed_sections": []
    },
    "kernelspec": {
      "display_name": "Python 3",
      "language": "python",
      "name": "python3"
    },
    "language_info": {
      "codemirror_mode": {
        "name": "ipython",
        "version": 3
      },
      "file_extension": ".py",
      "mimetype": "text/x-python",
      "name": "python",
      "nbconvert_exporter": "python",
      "pygments_lexer": "ipython3",
      "version": "3.6.4"
    }
  },
  "cells": [
    {
      "cell_type": "markdown",
      "metadata": {
        "colab_type": "text",
        "id": "hXnG0AmKNJaf"
      },
      "source": [
        "# Project Demo\n",
        "\n",
        "This demo is designed to provide some general tips and tricks for the ITDS Fall 2019 project. For full details on the project, please refer to [the project requirements](https://grantmlong.com/teaching/fall2019/project/Project-ITDS-Fall-2019.pdf).\n",
        "\n",
        "***\n",
        "This demo uses `scikit-learn`, but by no means are you required to use this or any other particular package.\n",
        "\n"
      ]
    },
    {
      "cell_type": "code",
      "metadata": {
        "colab_type": "code",
        "id": "frkfBGXgNJaj",
        "colab": {}
      },
      "source": [
        "import pandas as pd\n",
        "import numpy as np\n",
        "import re\n",
        "import matplotlib.pyplot as plt \n",
        "from sklearn.linear_model import LinearRegression\n",
        "import seaborn as sns\n",
        "import io\n",
        "%matplotlib inline\n",
        "from sklearn.metrics import mean_squared_error\n",
        "from sklearn.ensemble import RandomForestRegressor\n",
        "from sklearn.ensemble import GradientBoostingRegressor\n",
        "from sklearn.ensemble import \n"
      ],
      "execution_count": 0,
      "outputs": []
    },
    {
      "cell_type": "code",
      "metadata": {
        "colab_type": "code",
        "id": "oEC-uslYJLhp",
        "outputId": "9de6c4d4-2fd8-47a1-8eb9-66d13baacbf2",
        "colab": {
          "resources": {
            "http://localhost:8080/nbextensions/google.colab/files.js": {
              "data": "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",
              "ok": true,
              "headers": [
                [
                  "content-type",
                  "application/javascript"
                ]
              ],
              "status": 200,
              "status_text": ""
            }
          },
          "base_uri": "https://localhost:8080/",
          "height": 75
        }
      },
      "source": [
        "from google.colab import files\n",
        "uploaded = files.upload()"
      ],
      "execution_count": 32,
      "outputs": [
        {
          "output_type": "display_data",
          "data": {
            "text/html": [
              "\n",
              "     <input type=\"file\" id=\"files-8d84aecd-46ed-48d2-a408-cad538cb393c\" name=\"files[]\" multiple disabled />\n",
              "     <output id=\"result-8d84aecd-46ed-48d2-a408-cad538cb393c\">\n",
              "      Upload widget is only available when the cell has been executed in the\n",
              "      current browser session. Please rerun this cell to enable.\n",
              "      </output>\n",
              "      <script src=\"/nbextensions/google.colab/files.js\"></script> "
            ],
            "text/plain": [
              "<IPython.core.display.HTML object>"
            ]
          },
          "metadata": {
            "tags": []
          }
        },
        {
          "output_type": "stream",
          "text": [
            "Saving school_data.csv to school_data (3).csv\n"
          ],
          "name": "stdout"
        }
      ]
    },
    {
      "cell_type": "code",
      "metadata": {
        "colab_type": "code",
        "id": "2KBvesiPNJas",
        "colab": {}
      },
      "source": [
        "train_df = pd.read_csv('https://grantmlong.com/data/SE_rents2018_train.csv', index_col=0)\n",
        "test_df = pd.read_csv('https://grantmlong.com/data/SE_rents2018_test1.csv', index_col=0)\n",
        "submit1_df = pd.read_csv('https://grantmlong.com/data/SE_rents2018_test2.csv', index_col=0)\n",
        "submit2_df = pd.read_csv('https://grantmlong.com/data/SE_rents2018_test3.csv', index_col=0)\n",
        "schools_df = pd.read_csv(io.BytesIO(uploaded['school_data.csv']), index_col=0)\n",
        "\n",
        "#train_index = train_df.index.copy()#copies the original index\n",
        "#train_index['addr_zip'] = train_df['addr_zip']\n",
        "\n",
        "\n",
        "#train_df = pd.DataFrame.join(train_df, schools_df)\n",
        "\n",
        "#train_df = pd.merge(df_b, on='addr_zip', how='inner')\n",
        "#train_df = pd.merge(train_df, schools_df, left_on=\"addr_zip\", right_on=\"addr_zip\")\n",
        "\n",
        "#t = train_df.index\n",
        "#train_df = train_df.merge(schools_df, on='addr_zip', how='left')\n",
        "train_df = train_df.reset_index().merge(schools_df, on='addr_zip', how='left').set_index(train_df.index.names)\n",
        "\n",
        "#t2 = test_df.index\n",
        "#test_df = test_df.merge(schools_df, on='addr_zip', how='left')\n",
        "test_df = test_df.reset_index().merge(schools_df, on='addr_zip', how='left').set_index(test_df.index.names)\n",
        "\n",
        "#submit1_df = pd.merge(submit1_df, schools_df,left_on='addr_zip', right_on='addr_zip')\n",
        "#submit2_df = pd.merge(submit2_df, schools_df,left_on='addr_zip', right_on='addr_zip')\n",
        "submit1_df = submit1_df.reset_index().merge(schools_df, on='addr_zip', how='left').set_index(submit1_df.index.names)\n",
        "submit2_df = submit2_df.reset_index().merge(schools_df, on='addr_zip', how='left').set_index(submit2_df.index.names)\n",
        "#a.reset_index().merge(b, how=\"left\").set_index(a.index.names)\n",
        "\n",
        "#train_df.set_index(t, inplace=True)\n",
        "#test_df.set_index(t2, inplace=True)\n",
        "\n",
        "train_df = train_df.drop(train_df[(train_df['size_sqft']>8000) & (train_df['rent']<10000)].index)\n",
        "train_df = train_df.drop(train_df[(train_df['bathrooms']>=12) & (train_df['rent']<10000)].index)\n",
        "\n",
        "train_df = train_df.drop(train_df[(train_df['bathrooms']==6) & (train_df['rent']<20000)].index)\n",
        "\n",
        "train_df = train_df.drop(train_df[(train_df['bedrooms']>=8) & (train_df['rent']<20000)].index)\n",
        "\n",
        "\n",
        "cf = submit1_df #retaining the dataframe in cf instead incase I want to look at the original without edits\n",
        "cf.min_to_subway = cf.min_to_subway.fillna(cf.min_to_subway.mean(), axis=0) #Replacing empty values with the mean of the entire column\n",
        "cf.year_built = cf.year_built.fillna(cf.year_built.median(), axis=0) #Replacing empty values with the median of the entire column\n",
        "cf.loc[cf['size_sqft']==0,'size_sqft'] = np.nan\n",
        "cf.size_sqft = cf.size_sqft.fillna(cf.size_sqft.mean(), axis=0)\n",
        "\n",
        "\n",
        "cf2 = submit2_df #retaining the dataframe in cf instead incase I want to look at the original without edits\n",
        "cf2.min_to_subway = cf2.min_to_subway.fillna(cf2.min_to_subway.mean(), axis=0) #Replacing empty values with the mean of the entire column\n",
        "cf2.year_built = cf2.year_built.fillna(cf2.year_built.median(), axis=0) #Replacing empty values with the median of the entire column\n",
        "cf2.loc[cf2['size_sqft']==0,'size_sqft'] = np.nan\n",
        "cf2.size_sqft = cf2.size_sqft.fillna(cf2.size_sqft.mean(), axis=0)"
      ],
      "execution_count": 0,
      "outputs": []
    },
    {
      "cell_type": "code",
      "metadata": {
        "colab_type": "code",
        "id": "4L5DhAwlUTj8",
        "outputId": "adec4667-5d16-4250-9ea1-76c473d23622",
        "colab": {
          "base_uri": "https://localhost:8080/",
          "height": 90
        }
      },
      "source": [
        "print(len(test_df))\n",
        "print(len(train_df))\n",
        "print(len(submit1_df))\n",
        "print(len(submit2_df))"
      ],
      "execution_count": 34,
      "outputs": [
        {
          "output_type": "stream",
          "text": [
            "2000\n",
            "11990\n",
            "2000\n",
            "2000\n"
          ],
          "name": "stdout"
        }
      ]
    },
    {
      "cell_type": "markdown",
      "metadata": {
        "colab_type": "text",
        "id": "Hnpw1gg3NJaz"
      },
      "source": [
        "#### Build training data"
      ]
    },
    {
      "cell_type": "code",
      "metadata": {
        "colab_type": "code",
        "id": "ISjYnltgNJa0",
        "colab": {}
      },
      "source": [
        "# extract usable features\n",
        "feature_cols = [\n",
        "    'bedrooms', 'year_built', 'bathrooms', 'min_to_subway', \n",
        "    'size_sqft', 'no_fee', 'has_doorman', 'Occurrences'\n",
        "]\n",
        "#Year build and minute values are the only features with missing values\n",
        "train_features = train_df[feature_cols] \n",
        "\n",
        "# impute missing values with medians\n",
        "train_features = train_features.fillna(train_features.median(), axis=0)\n",
        "\n",
        "# construct target vector\n",
        "train_target = train_df['rent']"
      ],
      "execution_count": 0,
      "outputs": []
    },
    {
      "cell_type": "markdown",
      "metadata": {
        "colab_type": "text",
        "id": "3Ul2DHJgNJa8"
      },
      "source": [
        "#### Fit model"
      ]
    },
    {
      "cell_type": "code",
      "metadata": {
        "colab_type": "code",
        "id": "cE1mSw8DNJa-",
        "outputId": "cc4f24d0-3cca-4dbf-95d8-891e05ce664e",
        "colab": {
          "base_uri": "https://localhost:8080/",
          "height": 217
        }
      },
      "source": [
        "lreg = LinearRegression()\n",
        "lreg.fit(train_features, train_target)\n",
        "\n",
        "rf = RandomForestRegressor()\n",
        "rf.fit(train_features, train_target)\n",
        "\n",
        "gbr = GradientBoostingRegressor()\n",
        "gbr.fit(train_features,train_target)"
      ],
      "execution_count": 36,
      "outputs": [
        {
          "output_type": "stream",
          "text": [
            "/usr/local/lib/python3.6/dist-packages/sklearn/ensemble/forest.py:245: FutureWarning: The default value of n_estimators will change from 10 in version 0.20 to 100 in 0.22.\n",
            "  \"10 in version 0.20 to 100 in 0.22.\", FutureWarning)\n"
          ],
          "name": "stderr"
        },
        {
          "output_type": "execute_result",
          "data": {
            "text/plain": [
              "GradientBoostingRegressor(alpha=0.9, criterion='friedman_mse', init=None,\n",
              "                          learning_rate=0.1, loss='ls', max_depth=3,\n",
              "                          max_features=None, max_leaf_nodes=None,\n",
              "                          min_impurity_decrease=0.0, min_impurity_split=None,\n",
              "                          min_samples_leaf=1, min_samples_split=2,\n",
              "                          min_weight_fraction_leaf=0.0, n_estimators=100,\n",
              "                          n_iter_no_change=None, presort='auto',\n",
              "                          random_state=None, subsample=1.0, tol=0.0001,\n",
              "                          validation_fraction=0.1, verbose=0, warm_start=False)"
            ]
          },
          "metadata": {
            "tags": []
          },
          "execution_count": 36
        }
      ]
    },
    {
      "cell_type": "markdown",
      "metadata": {
        "colab_type": "text",
        "id": "AN2vGTFrNJbD"
      },
      "source": [
        "#### Predict and Measure Using Test 1"
      ]
    },
    {
      "cell_type": "code",
      "metadata": {
        "colab_type": "code",
        "id": "UC7Shzr5NJbF",
        "outputId": "b6208dff-4377-4b30-b97e-8c1c5f65a646",
        "colab": {
          "base_uri": "https://localhost:8080/",
          "height": 35
        }
      },
      "source": [
        "test_features = test_df[feature_cols] \n",
        "\n",
        "# impute missing values with medians\n",
        "test_features = test_features.fillna(train_features.median(), axis=0)\n",
        "\n",
        "# construct predictions \n",
        "test_df['predicted'] = gbr.predict(test_features)\n",
        "\n",
        "mean_squared_error(test_df['rent'], test_df['predicted'])"
      ],
      "execution_count": 37,
      "outputs": [
        {
          "output_type": "execute_result",
          "data": {
            "text/plain": [
              "2414057.293036193"
            ]
          },
          "metadata": {
            "tags": []
          },
          "execution_count": 37
        }
      ]
    },
    {
      "cell_type": "markdown",
      "metadata": {
        "colab_type": "text",
        "id": "bC7xjDkVNJbK"
      },
      "source": [
        "#### Combine Data, Predict Values for Test 2"
      ]
    },
    {
      "cell_type": "code",
      "metadata": {
        "colab_type": "code",
        "id": "opX2Oe4INJbM",
        "outputId": "187d180f-c00f-4342-8a9e-269ddcc20a30",
        "colab": {
          "base_uri": "https://localhost:8080/",
          "height": 181
        }
      },
      "source": [
        "master_df = train_df.append(test_df, sort=False)\n",
        "\n",
        "master_df.loc[master_df['size_sqft']==0,'size_sqft'] = np.nan\n",
        "master_df.size_sqft = master_df.size_sqft.fillna(master_df.size_sqft.mean(), axis=0)\n",
        "\n",
        "master_features = master_df[feature_cols].fillna(master_df[feature_cols].median(), axis=0)\n",
        "master_target = master_df['rent']\n",
        "\n",
        "gbr.fit(master_features, master_target)\n",
        "\n",
        "\n",
        "\n",
        "#gbr_pred = gbr.predict(train_features)\n",
        "#mean_squared_error(train_target,gbr_pred)"
      ],
      "execution_count": 38,
      "outputs": [
        {
          "output_type": "execute_result",
          "data": {
            "text/plain": [
              "GradientBoostingRegressor(alpha=0.9, criterion='friedman_mse', init=None,\n",
              "                          learning_rate=0.1, loss='ls', max_depth=3,\n",
              "                          max_features=None, max_leaf_nodes=None,\n",
              "                          min_impurity_decrease=0.0, min_impurity_split=None,\n",
              "                          min_samples_leaf=1, min_samples_split=2,\n",
              "                          min_weight_fraction_leaf=0.0, n_estimators=100,\n",
              "                          n_iter_no_change=None, presort='auto',\n",
              "                          random_state=None, subsample=1.0, tol=0.0001,\n",
              "                          validation_fraction=0.1, verbose=0, warm_start=False)"
            ]
          },
          "metadata": {
            "tags": []
          },
          "execution_count": 38
        }
      ]
    },
    {
      "cell_type": "code",
      "metadata": {
        "colab_type": "code",
        "id": "WDiqgCapMEL7",
        "outputId": "b7b266a4-8bb6-40b2-cb1e-a6a3d3dc3dc3",
        "colab": {
          "base_uri": "https://localhost:8080/",
          "height": 254
        }
      },
      "source": [
        "#cf.drop(cf.tail(20).index,inplace=True)\n",
        "\n",
        "print(cf['rent'].value_counts)"
      ],
      "execution_count": 39,
      "outputs": [
        {
          "output_type": "stream",
          "text": [
            "<bound method IndexOpsMixin.value_counts of rental_id\n",
            "7428577   NaN\n",
            "7454944   NaN\n",
            "7473595   NaN\n",
            "7490488   NaN\n",
            "7460896   NaN\n",
            "           ..\n",
            "7451410   NaN\n",
            "7493779   NaN\n",
            "7474525   NaN\n",
            "7507738   NaN\n",
            "7443274   NaN\n",
            "Name: rent, Length: 2000, dtype: float64>\n"
          ],
          "name": "stdout"
        }
      ]
    },
    {
      "cell_type": "markdown",
      "metadata": {
        "colab_type": "text",
        "id": "nt_n1cNPNJbS"
      },
      "source": [
        "#### Create Submission File for `test2`"
      ]
    },
    {
      "cell_type": "code",
      "metadata": {
        "colab_type": "code",
        "id": "DdWrAsSlNJbT",
        "outputId": "fd16f14b-ea14-4aed-be3b-18f712400291",
        "colab": {
          "base_uri": "https://localhost:8080/",
          "height": 35
        }
      },
      "source": [
        "\n",
        "submit1_features = cf[feature_cols].fillna(master_df[feature_cols].median(), axis=0)\n",
        "cf['predictions'] = gbr.predict(submit1_features)\n",
        "cf['predictions'].to_csv('sample_submission1.csv', header=True)\n",
        "\n",
        "cf['fake_rent'] = np.ones(cf['predictions'].shape) * master_target.median()\n",
        "mean_squared_error(cf['predictions'], test_df['rent'])\n",
        "\n"
      ],
      "execution_count": 40,
      "outputs": [
        {
          "output_type": "execute_result",
          "data": {
            "text/plain": [
              "13845229.534566218"
            ]
          },
          "metadata": {
            "tags": []
          },
          "execution_count": 40
        }
      ]
    },
    {
      "cell_type": "code",
      "metadata": {
        "colab_type": "code",
        "id": "cFtf0_JK64j0",
        "outputId": "77edbe9d-5830-43e2-d14b-d0d4f3c394d2",
        "colab": {
          "base_uri": "https://localhost:8080/",
          "height": 437
        }
      },
      "source": [
        "#cf2.drop(cf.tail(2).index,inplace=True)\n",
        "submit1_df[feature_cols+['predictions']]"
      ],
      "execution_count": 0,
      "outputs": [
        {
          "output_type": "execute_result",
          "data": {
            "text/html": [
              "<div>\n",
              "<style scoped>\n",
              "    .dataframe tbody tr th:only-of-type {\n",
              "        vertical-align: middle;\n",
              "    }\n",
              "\n",
              "    .dataframe tbody tr th {\n",
              "        vertical-align: top;\n",
              "    }\n",
              "\n",
              "    .dataframe thead th {\n",
              "        text-align: right;\n",
              "    }\n",
              "</style>\n",
              "<table border=\"1\" class=\"dataframe\">\n",
              "  <thead>\n",
              "    <tr style=\"text-align: right;\">\n",
              "      <th></th>\n",
              "      <th>bedrooms</th>\n",
              "      <th>year_built</th>\n",
              "      <th>bathrooms</th>\n",
              "      <th>min_to_subway</th>\n",
              "      <th>size_sqft</th>\n",
              "      <th>no_fee</th>\n",
              "      <th>has_doorman</th>\n",
              "      <th>Occurrences</th>\n",
              "      <th>predictions</th>\n",
              "    </tr>\n",
              "    <tr>\n",
              "      <th>rental_id</th>\n",
              "      <th></th>\n",
              "      <th></th>\n",
              "      <th></th>\n",
              "      <th></th>\n",
              "      <th></th>\n",
              "      <th></th>\n",
              "      <th></th>\n",
              "      <th></th>\n",
              "      <th></th>\n",
              "    </tr>\n",
              "  </thead>\n",
              "  <tbody>\n",
              "    <tr>\n",
              "      <th>7428577</th>\n",
              "      <td>0</td>\n",
              "      <td>1931.0</td>\n",
              "      <td>1.0</td>\n",
              "      <td>0.6000</td>\n",
              "      <td>450.000000</td>\n",
              "      <td>0</td>\n",
              "      <td>0</td>\n",
              "      <td>11.0</td>\n",
              "      <td>2333.203714</td>\n",
              "    </tr>\n",
              "    <tr>\n",
              "      <th>7454944</th>\n",
              "      <td>2</td>\n",
              "      <td>1960.0</td>\n",
              "      <td>1.0</td>\n",
              "      <td>27.1500</td>\n",
              "      <td>950.000000</td>\n",
              "      <td>0</td>\n",
              "      <td>0</td>\n",
              "      <td>NaN</td>\n",
              "      <td>2266.050224</td>\n",
              "    </tr>\n",
              "    <tr>\n",
              "      <th>7473595</th>\n",
              "      <td>1</td>\n",
              "      <td>1934.0</td>\n",
              "      <td>1.0</td>\n",
              "      <td>2.8000</td>\n",
              "      <td>914.956665</td>\n",
              "      <td>1</td>\n",
              "      <td>0</td>\n",
              "      <td>NaN</td>\n",
              "      <td>2684.503140</td>\n",
              "    </tr>\n",
              "    <tr>\n",
              "      <th>7490488</th>\n",
              "      <td>2</td>\n",
              "      <td>2017.0</td>\n",
              "      <td>1.0</td>\n",
              "      <td>2.2833</td>\n",
              "      <td>500.000000</td>\n",
              "      <td>1</td>\n",
              "      <td>0</td>\n",
              "      <td>5.0</td>\n",
              "      <td>2570.065127</td>\n",
              "    </tr>\n",
              "    <tr>\n",
              "      <th>7460896</th>\n",
              "      <td>1</td>\n",
              "      <td>2010.0</td>\n",
              "      <td>1.0</td>\n",
              "      <td>10.4833</td>\n",
              "      <td>610.000000</td>\n",
              "      <td>1</td>\n",
              "      <td>0</td>\n",
              "      <td>1.0</td>\n",
              "      <td>2344.601708</td>\n",
              "    </tr>\n",
              "    <tr>\n",
              "      <th>...</th>\n",
              "      <td>...</td>\n",
              "      <td>...</td>\n",
              "      <td>...</td>\n",
              "      <td>...</td>\n",
              "      <td>...</td>\n",
              "      <td>...</td>\n",
              "      <td>...</td>\n",
              "      <td>...</td>\n",
              "      <td>...</td>\n",
              "    </tr>\n",
              "    <tr>\n",
              "      <th>7451410</th>\n",
              "      <td>0</td>\n",
              "      <td>1920.0</td>\n",
              "      <td>1.0</td>\n",
              "      <td>4.0333</td>\n",
              "      <td>600.000000</td>\n",
              "      <td>0</td>\n",
              "      <td>0</td>\n",
              "      <td>NaN</td>\n",
              "      <td>2097.788498</td>\n",
              "    </tr>\n",
              "    <tr>\n",
              "      <th>7493779</th>\n",
              "      <td>1</td>\n",
              "      <td>1900.0</td>\n",
              "      <td>1.0</td>\n",
              "      <td>1.6000</td>\n",
              "      <td>914.956665</td>\n",
              "      <td>0</td>\n",
              "      <td>0</td>\n",
              "      <td>11.0</td>\n",
              "      <td>3473.997823</td>\n",
              "    </tr>\n",
              "    <tr>\n",
              "      <th>7474525</th>\n",
              "      <td>1</td>\n",
              "      <td>1920.0</td>\n",
              "      <td>1.0</td>\n",
              "      <td>4.0333</td>\n",
              "      <td>914.956665</td>\n",
              "      <td>0</td>\n",
              "      <td>0</td>\n",
              "      <td>4.0</td>\n",
              "      <td>2581.326733</td>\n",
              "    </tr>\n",
              "    <tr>\n",
              "      <th>7507738</th>\n",
              "      <td>1</td>\n",
              "      <td>2005.0</td>\n",
              "      <td>1.0</td>\n",
              "      <td>1.0500</td>\n",
              "      <td>900.000000</td>\n",
              "      <td>1</td>\n",
              "      <td>0</td>\n",
              "      <td>4.0</td>\n",
              "      <td>2939.343264</td>\n",
              "    </tr>\n",
              "    <tr>\n",
              "      <th>7443274</th>\n",
              "      <td>1</td>\n",
              "      <td>2006.0</td>\n",
              "      <td>1.0</td>\n",
              "      <td>3.1167</td>\n",
              "      <td>600.000000</td>\n",
              "      <td>1</td>\n",
              "      <td>0</td>\n",
              "      <td>NaN</td>\n",
              "      <td>2786.231373</td>\n",
              "    </tr>\n",
              "  </tbody>\n",
              "</table>\n",
              "<p>2000 rows × 9 columns</p>\n",
              "</div>"
            ],
            "text/plain": [
              "           bedrooms  year_built  ...  Occurrences  predictions\n",
              "rental_id                        ...                          \n",
              "7428577           0      1931.0  ...         11.0  2333.203714\n",
              "7454944           2      1960.0  ...          NaN  2266.050224\n",
              "7473595           1      1934.0  ...          NaN  2684.503140\n",
              "7490488           2      2017.0  ...          5.0  2570.065127\n",
              "7460896           1      2010.0  ...          1.0  2344.601708\n",
              "...             ...         ...  ...          ...          ...\n",
              "7451410           0      1920.0  ...          NaN  2097.788498\n",
              "7493779           1      1900.0  ...         11.0  3473.997823\n",
              "7474525           1      1920.0  ...          4.0  2581.326733\n",
              "7507738           1      2005.0  ...          4.0  2939.343264\n",
              "7443274           1      2006.0  ...          NaN  2786.231373\n",
              "\n",
              "[2000 rows x 9 columns]"
            ]
          },
          "metadata": {
            "tags": []
          },
          "execution_count": 19
        }
      ]
    },
    {
      "cell_type": "code",
      "metadata": {
        "colab_type": "code",
        "id": "aCgEjPUGNJbW",
        "colab": {}
      },
      "source": [
        "#from google.colab import files"
      ],
      "execution_count": 0,
      "outputs": []
    },
    {
      "cell_type": "code",
      "metadata": {
        "colab_type": "code",
        "id": "3QWcLf3uQnPy",
        "colab": {}
      },
      "source": [
        "files.download(\"sample_submission1.csv\")"
      ],
      "execution_count": 0,
      "outputs": []
    },
    {
      "cell_type": "markdown",
      "metadata": {
        "colab_type": "text",
        "id": "MN3ChkeeNJbZ"
      },
      "source": [
        "#### Create Submission File for `test3`"
      ]
    },
    {
      "cell_type": "code",
      "metadata": {
        "colab_type": "code",
        "id": "Gow_xBw2NJbb",
        "outputId": "6f718357-5e9f-4ce1-ef03-f1fc24c88c9e",
        "colab": {
          "base_uri": "https://localhost:8080/",
          "height": 35
        }
      },
      "source": [
        "submit2_features = cf2[feature_cols].fillna(master_df[feature_cols].median(), axis=0)\n",
        "cf2['predictions'] = gbr.predict(submit2_features)\n",
        "cf2['predictions'].to_csv('sample_submission2.csv', header=True)\n",
        "\n",
        "cf2['fake_rent'] = np.ones(cf2['predictions'].shape) * master_target.median()\n",
        "mean_squared_error(cf2['predictions'], test_df['rent'])"
      ],
      "execution_count": 41,
      "outputs": [
        {
          "output_type": "execute_result",
          "data": {
            "text/plain": [
              "12588133.49452935"
            ]
          },
          "metadata": {
            "tags": []
          },
          "execution_count": 41
        }
      ]
    },
    {
      "cell_type": "markdown",
      "metadata": {
        "id": "uUw4_WtvDpfj",
        "colab_type": "raw"
      },
      "source": [
        "submit2_features = submit2_df[feature_cols].fillna(master_df[feature_cols].median(), axis=0)\n",
        "submit2_df['predictions'] = lreg.predict(submit2_features)\n",
        "submit2_df['predictions'].to_csv('sample_submission2.csv', header=True)\n",
        "\n",
        "submit2_df['fake_rent'] = np.ones(submit2_df['predictions'].shape) * master_target.median()\n",
        "mean_squared_error(submit2_df['predictions'], submit2_df['rent'])"
      ]
    },
    {
      "cell_type": "code",
      "metadata": {
        "colab_type": "code",
        "id": "cYrPy6AYNJbe",
        "outputId": "de4e5c26-954f-44e5-cfd8-52df2f4b07a6",
        "colab": {
          "base_uri": "https://localhost:8080/",
          "height": 272
        }
      },
      "source": [
        "#test = submit2_df.sort_values(['predictions'], ascending=[1])\n",
        "#print(test)\n",
        "\n",
        "test1 = submit2_df.sort_values(['predictions'], ascending=[1])\n",
        "print(test1)"
      ],
      "execution_count": 0,
      "outputs": [
        {
          "output_type": "stream",
          "text": [
            "          addr_unit  building_id  bedrooms  bathrooms  size_sqft  \\\n",
            "rental_id                                                          \n",
            "7461496          #1       820096         0        1.0      600.0   \n",
            "7472128        #712      1606783         0        1.0      500.0   \n",
            "7481896        #634      1677385         0        1.0      595.0   \n",
            "7462699         #3A       950458         0        1.0      500.0   \n",
            "7509406       #634A      1677385         0        1.0      610.0   \n",
            "...             ...          ...       ...        ...        ...   \n",
            "7480519     #13/14C        64603         5        4.0     2900.0   \n",
            "7470277     #19WEST         2464         4        4.0     2697.0   \n",
            "7492594         #3D         5260         4        4.0     3243.0   \n",
            "7500250         #7D        32875         5        5.0     3586.0   \n",
            "7481848       #PH2C          313         4        5.0     4293.0   \n",
            "\n",
            "                    created_at              addr_street addr_city  addr_zip  \\\n",
            "rental_id                                                                     \n",
            "7461496    2018-08-09 15:45:34            2701 AVENUE Y  Brooklyn     11235   \n",
            "7472128    2018-08-13 17:00:38  189-14 CROCHERON AVENUE  Flushing     11358   \n",
            "7481896    2018-08-16 11:31:19         149-05 79 AVENUE  Flushing     11367   \n",
            "7462699    2018-08-09 19:50:04       50 SHORE BOULEVARD  Brooklyn     11235   \n",
            "7509406    2018-08-24 19:13:36         149-05 79 AVENUE  Flushing     11367   \n",
            "...                        ...                      ...       ...       ...   \n",
            "7480519    2018-08-15 18:29:18         255 WEST 88TH ST  New York     10024   \n",
            "7470277    2018-08-13 12:02:32        111 MURRAY STREET  New York     10007   \n",
            "7492594    2018-08-20 12:51:01         71 LAIGHT STREET  New York     10013   \n",
            "7500250    2018-08-22 13:02:55       522 WEST 29 STREET  New York     10001   \n",
            "7481848    2018-08-16 11:19:12    10 LITTLE WEST STREET  New York     10004   \n",
            "\n",
            "            addr_lat  ...  no_fee  \\\n",
            "rental_id             ...           \n",
            "7461496    40.591632  ...       0   \n",
            "7472128    40.762939  ...       0   \n",
            "7481896    40.720095  ...       0   \n",
            "7462699    40.581967  ...       0   \n",
            "7509406    40.720095  ...       0   \n",
            "...              ...  ...     ...   \n",
            "7480519    40.789964  ...       0   \n",
            "7470277    40.715199  ...       0   \n",
            "7492594    40.721901  ...       0   \n",
            "7500250    40.751801  ...       0   \n",
            "7481848    40.705572  ...       0   \n",
            "\n",
            "                                                 description  \\\n",
            "rental_id                                                      \n",
            "7461496    Oversized Studio Apartment in Private Home!\\r\\...   \n",
            "7472128    Oversized studio apartment in full service bui...   \n",
            "7481896    good size studio available in the heart of kew...   \n",
            "7462699    WELCOME TO 50 SHORE BLVD\\r\\nThird Floor of a m...   \n",
            "7509406    large studio apt located in kew garden hills\\r...   \n",
            "...                                                      ...   \n",
            "7480519    COMING UP!! BRAND NEW RENOVATIONS!\\r\\nThis spr...   \n",
            "7470277    Never lived in, newly constructed 2,697 square...   \n",
            "7492594    Prime North TriBeCa four bedroom with modern f...   \n",
            "7500250    The very first lease offering at Soori High Li...   \n",
            "7481848    *THE RENT IS $35,000 UPON THE SIGNING OF A 13 ...   \n",
            "\n",
            "                neighborhood    borough    unit  floornumber  line  \\\n",
            "rental_id                                                            \n",
            "7461496       Sheepshead Bay   Brooklyn       1          1.0   NaN   \n",
            "7472128             Flushing     Queens     712          NaN   NaN   \n",
            "7481896    Kew Gardens Hills     Queens     634          6.0    34   \n",
            "7462699       Brighton Beach   Brooklyn      3A          3.0     A   \n",
            "7509406    Kew Gardens Hills     Queens    634A          6.0   34A   \n",
            "...                      ...        ...     ...          ...   ...   \n",
            "7480519      Upper West Side  Manhattan  13/14C         13.0  /14C   \n",
            "7470277              Tribeca  Manhattan     NaN         19.0   NaN   \n",
            "7492594              Tribeca  Manhattan      3D          3.0     D   \n",
            "7500250              Chelsea  Manhattan      7D          7.0     D   \n",
            "7481848    Battery Park City  Manhattan    PH2C         38.0    2C   \n",
            "\n",
            "           Occurrences   predictions  fake_rent  \n",
            "rental_id                                        \n",
            "7461496            5.0   1411.627604     2900.0  \n",
            "7472128            1.0   1475.911447     2900.0  \n",
            "7481896            2.0   1487.452748     2900.0  \n",
            "7462699            5.0   1497.285312     2900.0  \n",
            "7509406            2.0   1517.604472     2900.0  \n",
            "...                ...           ...        ...  \n",
            "7480519            3.0  21420.291199     2900.0  \n",
            "7470277            NaN  23819.812498     2900.0  \n",
            "7492594            2.0  25620.696871     2900.0  \n",
            "7500250            NaN  35509.397030     2900.0  \n",
            "7481848            4.0  40090.469007     2900.0  \n",
            "\n",
            "[2000 rows x 41 columns]\n"
          ],
          "name": "stdout"
        }
      ]
    },
    {
      "cell_type": "code",
      "metadata": {
        "id": "fDemC1GGDpfm",
        "colab_type": "code",
        "colab": {}
      },
      "source": [
        ""
      ],
      "execution_count": 0,
      "outputs": []
    },
    {
      "cell_type": "code",
      "metadata": {
        "colab_type": "code",
        "id": "tOiDIyLANJbg",
        "colab": {}
      },
      "source": [
        ""
      ],
      "execution_count": 0,
      "outputs": []
    },
    {
      "cell_type": "code",
      "metadata": {
        "colab_type": "code",
        "id": "IK10_3EzNJbj",
        "colab": {}
      },
      "source": [
        ""
      ],
      "execution_count": 0,
      "outputs": []
    },
    {
      "cell_type": "code",
      "metadata": {
        "colab_type": "code",
        "id": "dB8T6yJYNJbm",
        "colab": {}
      },
      "source": [
        ""
      ],
      "execution_count": 0,
      "outputs": []
    },
    {
      "cell_type": "code",
      "metadata": {
        "colab_type": "code",
        "id": "dWbrwcWlNJbq",
        "colab": {}
      },
      "source": [
        ""
      ],
      "execution_count": 0,
      "outputs": []
    }
  ]
}
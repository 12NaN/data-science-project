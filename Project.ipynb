{
  "nbformat": 4,
  "nbformat_minor": 0,
  "metadata": {
    "anaconda-cloud": {},
    "kernelspec": {
      "display_name": "Python 3",
      "language": "python",
      "name": "python3"
    },
    "language_info": {
      "codemirror_mode": {
        "name": "ipython",
        "version": 3
      },
      "file_extension": ".py",
      "mimetype": "text/x-python",
      "name": "python",
      "nbconvert_exporter": "python",
      "pygments_lexer": "ipython3",
      "version": "3.6.7"
    },
    "colab": {
      "name": "Project.ipynb",
      "provenance": []
    }
  },
  "cells": [
    {
      "cell_type": "markdown",
      "metadata": {
        "id": "hXnG0AmKNJaf",
        "colab_type": "text"
      },
      "source": [
        "# Project Demo\n",
        "\n",
        "This demo is designed to provide some general tips and tricks for the ITDS Fall 2019 project. For full details on the project, please refer to [the project requirements](https://grantmlong.com/teaching/fall2019/project/Project-ITDS-Fall-2019.pdf).\n",
        "\n",
        "***\n",
        "This demo uses `scikit-learn`, but by no means are you required to use this or any other particular package.\n",
        "\n"
      ]
    },
    {
      "cell_type": "code",
      "metadata": {
        "id": "yUXK6xbf9dEs",
        "colab_type": "code",
        "colab": {}
      },
      "source": [
        "!git add ."
      ],
      "execution_count": 0,
      "outputs": []
    },
    {
      "cell_type": "code",
      "metadata": {
        "id": "frkfBGXgNJaj",
        "colab_type": "code",
        "colab": {}
      },
      "source": [
        "import numpy as np\n",
        "import pandas as pd\n",
        "import matplotlib.pyplot as plt\n",
        "\n",
        "from sklearn.linear_model import LinearRegression\n",
        "from sklearn.metrics import mean_squared_error\n",
        "\n",
        "from sklearn.ensemble import RandomForestRegressor\n",
        "\n",
        "%matplotlib inline"
      ],
      "execution_count": 0,
      "outputs": []
    },
    {
      "cell_type": "code",
      "metadata": {
        "id": "2KBvesiPNJas",
        "colab_type": "code",
        "colab": {}
      },
      "source": [
        "train_df = pd.read_csv('https://grantmlong.com/data/SE_rents2018_train.csv', index_col=0)\n",
        "test_df = pd.read_csv('https://grantmlong.com/data/SE_rents2018_test1.csv', index_col=0)\n",
        "submit1_df = pd.read_csv('https://grantmlong.com/data/SE_rents2018_test2.csv', index_col=0)\n",
        "submit2_df = pd.read_csv('https://grantmlong.com/data/SE_rents2018_test3.csv', index_col=0)\n",
        "\n",
        "cf = submit1_df \n",
        "\n",
        "cf.min_to_subway = cf.min_to_subway.fillna(cf.min_to_subway.mean(), axis=0)\n",
        "cf.year_built = cf.year_built.fillna(cf.year_built.median(), axis=0)\n",
        "\n"
      ],
      "execution_count": 0,
      "outputs": []
    },
    {
      "cell_type": "code",
      "metadata": {
        "id": "ZSV1B2zNNJaw",
        "colab_type": "code",
        "outputId": "ee8c1427-42e2-4c95-95db-f803ccaf558a",
        "colab": {
          "base_uri": "https://localhost:8080/",
          "height": 1000
        }
      },
      "source": [
        "train_df.sample(5).transpose()"
      ],
      "execution_count": 0,
      "outputs": [
        {
          "output_type": "execute_result",
          "data": {
            "text/html": [
              "<div>\n",
              "<style scoped>\n",
              "    .dataframe tbody tr th:only-of-type {\n",
              "        vertical-align: middle;\n",
              "    }\n",
              "\n",
              "    .dataframe tbody tr th {\n",
              "        vertical-align: top;\n",
              "    }\n",
              "\n",
              "    .dataframe thead th {\n",
              "        text-align: right;\n",
              "    }\n",
              "</style>\n",
              "<table border=\"1\" class=\"dataframe\">\n",
              "  <thead>\n",
              "    <tr style=\"text-align: right;\">\n",
              "      <th>rental_id</th>\n",
              "      <th>7229284</th>\n",
              "      <th>7215520</th>\n",
              "      <th>7311652</th>\n",
              "      <th>7388557</th>\n",
              "      <th>7322155</th>\n",
              "    </tr>\n",
              "  </thead>\n",
              "  <tbody>\n",
              "    <tr>\n",
              "      <th>addr_unit</th>\n",
              "      <td>#5AA</td>\n",
              "      <td>#A</td>\n",
              "      <td>#214</td>\n",
              "      <td>#2</td>\n",
              "      <td>#2F</td>\n",
              "    </tr>\n",
              "    <tr>\n",
              "      <th>building_id</th>\n",
              "      <td>386185</td>\n",
              "      <td>91474</td>\n",
              "      <td>133315</td>\n",
              "      <td>700879</td>\n",
              "      <td>123712</td>\n",
              "    </tr>\n",
              "    <tr>\n",
              "      <th>bedrooms</th>\n",
              "      <td>1</td>\n",
              "      <td>1</td>\n",
              "      <td>0</td>\n",
              "      <td>1</td>\n",
              "      <td>2</td>\n",
              "    </tr>\n",
              "    <tr>\n",
              "      <th>bathrooms</th>\n",
              "      <td>1</td>\n",
              "      <td>1</td>\n",
              "      <td>1</td>\n",
              "      <td>1</td>\n",
              "      <td>1</td>\n",
              "    </tr>\n",
              "    <tr>\n",
              "      <th>size_sqft</th>\n",
              "      <td>700</td>\n",
              "      <td>900</td>\n",
              "      <td>900</td>\n",
              "      <td>550</td>\n",
              "      <td>900</td>\n",
              "    </tr>\n",
              "    <tr>\n",
              "      <th>created_at</th>\n",
              "      <td>2018-06-01 16:03:21</td>\n",
              "      <td>2018-05-29 13:25:07</td>\n",
              "      <td>2018-06-27 12:11:25</td>\n",
              "      <td>2018-07-20 17:35:03</td>\n",
              "      <td>2018-06-30 14:14:50</td>\n",
              "    </tr>\n",
              "    <tr>\n",
              "      <th>addr_street</th>\n",
              "      <td>24 COOK STREET</td>\n",
              "      <td>1721 LEXINGTON AVENUE</td>\n",
              "      <td>50 BRIDGE STREET</td>\n",
              "      <td>8629 16 AVENUE</td>\n",
              "      <td>676 RIVERSIDE DRIVE</td>\n",
              "    </tr>\n",
              "    <tr>\n",
              "      <th>addr_city</th>\n",
              "      <td>Brooklyn</td>\n",
              "      <td>New York</td>\n",
              "      <td>Brooklyn</td>\n",
              "      <td>Brooklyn</td>\n",
              "      <td>New York</td>\n",
              "    </tr>\n",
              "    <tr>\n",
              "      <th>addr_zip</th>\n",
              "      <td>11206</td>\n",
              "      <td>10029</td>\n",
              "      <td>11201</td>\n",
              "      <td>11214</td>\n",
              "      <td>10031</td>\n",
              "    </tr>\n",
              "    <tr>\n",
              "      <th>addr_lat</th>\n",
              "      <td>40.7021</td>\n",
              "      <td>40.7931</td>\n",
              "      <td>40.7033</td>\n",
              "      <td>40.6093</td>\n",
              "      <td>40.8267</td>\n",
              "    </tr>\n",
              "    <tr>\n",
              "      <th>addr_lon</th>\n",
              "      <td>-73.943</td>\n",
              "      <td>-73.9454</td>\n",
              "      <td>-73.9853</td>\n",
              "      <td>-74.0077</td>\n",
              "      <td>-73.9519</td>\n",
              "    </tr>\n",
              "    <tr>\n",
              "      <th>bin</th>\n",
              "      <td>3.40358e+06</td>\n",
              "      <td>1.05207e+06</td>\n",
              "      <td>3.39599e+06</td>\n",
              "      <td>3.16632e+06</td>\n",
              "      <td>1.06237e+06</td>\n",
              "    </tr>\n",
              "    <tr>\n",
              "      <th>bbl</th>\n",
              "      <td>3031190022</td>\n",
              "      <td>1016350021</td>\n",
              "      <td>3000317502</td>\n",
              "      <td>3063630029</td>\n",
              "      <td>1020910048</td>\n",
              "    </tr>\n",
              "    <tr>\n",
              "      <th>floor_count</th>\n",
              "      <td>5</td>\n",
              "      <td>4</td>\n",
              "      <td>6</td>\n",
              "      <td>2</td>\n",
              "      <td>10</td>\n",
              "    </tr>\n",
              "    <tr>\n",
              "      <th>year_built</th>\n",
              "      <td>2007</td>\n",
              "      <td>1910</td>\n",
              "      <td>1904</td>\n",
              "      <td>1930</td>\n",
              "      <td>1911</td>\n",
              "    </tr>\n",
              "    <tr>\n",
              "      <th>min_to_subway</th>\n",
              "      <td>1.7667</td>\n",
              "      <td>2.0833</td>\n",
              "      <td>2.4167</td>\n",
              "      <td>3.05</td>\n",
              "      <td>0.9</td>\n",
              "    </tr>\n",
              "    <tr>\n",
              "      <th>has_doorman</th>\n",
              "      <td>0</td>\n",
              "      <td>0</td>\n",
              "      <td>1</td>\n",
              "      <td>0</td>\n",
              "      <td>0</td>\n",
              "    </tr>\n",
              "    <tr>\n",
              "      <th>has_elevator</th>\n",
              "      <td>1</td>\n",
              "      <td>0</td>\n",
              "      <td>1</td>\n",
              "      <td>0</td>\n",
              "      <td>1</td>\n",
              "    </tr>\n",
              "    <tr>\n",
              "      <th>has_fireplace</th>\n",
              "      <td>0</td>\n",
              "      <td>0</td>\n",
              "      <td>0</td>\n",
              "      <td>0</td>\n",
              "      <td>0</td>\n",
              "    </tr>\n",
              "    <tr>\n",
              "      <th>has_dishwasher</th>\n",
              "      <td>1</td>\n",
              "      <td>0</td>\n",
              "      <td>0</td>\n",
              "      <td>0</td>\n",
              "      <td>1</td>\n",
              "    </tr>\n",
              "    <tr>\n",
              "      <th>is_furnished</th>\n",
              "      <td>0</td>\n",
              "      <td>0</td>\n",
              "      <td>0</td>\n",
              "      <td>0</td>\n",
              "      <td>0</td>\n",
              "    </tr>\n",
              "    <tr>\n",
              "      <th>has_gym</th>\n",
              "      <td>0</td>\n",
              "      <td>0</td>\n",
              "      <td>1</td>\n",
              "      <td>0</td>\n",
              "      <td>0</td>\n",
              "    </tr>\n",
              "    <tr>\n",
              "      <th>allows_pets</th>\n",
              "      <td>1</td>\n",
              "      <td>1</td>\n",
              "      <td>1</td>\n",
              "      <td>1</td>\n",
              "      <td>1</td>\n",
              "    </tr>\n",
              "    <tr>\n",
              "      <th>has_washer_dryer</th>\n",
              "      <td>0</td>\n",
              "      <td>0</td>\n",
              "      <td>0</td>\n",
              "      <td>0</td>\n",
              "      <td>1</td>\n",
              "    </tr>\n",
              "    <tr>\n",
              "      <th>has_garage</th>\n",
              "      <td>0</td>\n",
              "      <td>0</td>\n",
              "      <td>0</td>\n",
              "      <td>0</td>\n",
              "      <td>0</td>\n",
              "    </tr>\n",
              "    <tr>\n",
              "      <th>has_roofdeck</th>\n",
              "      <td>1</td>\n",
              "      <td>0</td>\n",
              "      <td>1</td>\n",
              "      <td>0</td>\n",
              "      <td>0</td>\n",
              "    </tr>\n",
              "    <tr>\n",
              "      <th>has_concierge</th>\n",
              "      <td>0</td>\n",
              "      <td>0</td>\n",
              "      <td>0</td>\n",
              "      <td>0</td>\n",
              "      <td>0</td>\n",
              "    </tr>\n",
              "    <tr>\n",
              "      <th>has_pool</th>\n",
              "      <td>0</td>\n",
              "      <td>0</td>\n",
              "      <td>0</td>\n",
              "      <td>0</td>\n",
              "      <td>0</td>\n",
              "    </tr>\n",
              "    <tr>\n",
              "      <th>has_garden</th>\n",
              "      <td>0</td>\n",
              "      <td>1</td>\n",
              "      <td>0</td>\n",
              "      <td>0</td>\n",
              "      <td>0</td>\n",
              "    </tr>\n",
              "    <tr>\n",
              "      <th>has_childrens_playroom</th>\n",
              "      <td>0</td>\n",
              "      <td>0</td>\n",
              "      <td>0</td>\n",
              "      <td>0</td>\n",
              "      <td>0</td>\n",
              "    </tr>\n",
              "    <tr>\n",
              "      <th>rent</th>\n",
              "      <td>2500</td>\n",
              "      <td>2250</td>\n",
              "      <td>3900</td>\n",
              "      <td>1500</td>\n",
              "      <td>3100</td>\n",
              "    </tr>\n",
              "    <tr>\n",
              "      <th>no_fee</th>\n",
              "      <td>1</td>\n",
              "      <td>1</td>\n",
              "      <td>1</td>\n",
              "      <td>0</td>\n",
              "      <td>0</td>\n",
              "    </tr>\n",
              "    <tr>\n",
              "      <th>description</th>\n",
              "      <td>TERRACE! \\r\\n\\r\\n-Elevator building\\r\\n-Roof a...</td>\n",
              "      <td>extra large loft!\\r\\nentire floor of town-hous...</td>\n",
              "      <td>Do not miss out on this gorgeous 900 sqft stud...</td>\n",
              "      <td>This is a three and a half room second floor a...</td>\n",
              "      <td>This large 2 Bedroom has just been gut-renovat...</td>\n",
              "    </tr>\n",
              "    <tr>\n",
              "      <th>neighborhood</th>\n",
              "      <td>Williamsburg</td>\n",
              "      <td>East Harlem</td>\n",
              "      <td>DUMBO</td>\n",
              "      <td>Bath Beach</td>\n",
              "      <td>Hamilton Heights</td>\n",
              "    </tr>\n",
              "    <tr>\n",
              "      <th>borough</th>\n",
              "      <td>Brooklyn</td>\n",
              "      <td>Manhattan</td>\n",
              "      <td>Brooklyn</td>\n",
              "      <td>Brooklyn</td>\n",
              "      <td>Manhattan</td>\n",
              "    </tr>\n",
              "    <tr>\n",
              "      <th>unit</th>\n",
              "      <td>5AA</td>\n",
              "      <td>A</td>\n",
              "      <td>214</td>\n",
              "      <td>2</td>\n",
              "      <td>2F</td>\n",
              "    </tr>\n",
              "    <tr>\n",
              "      <th>floornumber</th>\n",
              "      <td>5</td>\n",
              "      <td>NaN</td>\n",
              "      <td>2</td>\n",
              "      <td>2</td>\n",
              "      <td>2</td>\n",
              "    </tr>\n",
              "    <tr>\n",
              "      <th>line</th>\n",
              "      <td>AA</td>\n",
              "      <td>NaN</td>\n",
              "      <td>14</td>\n",
              "      <td>NaN</td>\n",
              "      <td>F</td>\n",
              "    </tr>\n",
              "  </tbody>\n",
              "</table>\n",
              "</div>"
            ],
            "text/plain": [
              "rental_id                                                         7229284  ...                                            7322155\n",
              "addr_unit                                                            #5AA  ...                                                #2F\n",
              "building_id                                                        386185  ...                                             123712\n",
              "bedrooms                                                                1  ...                                                  2\n",
              "bathrooms                                                               1  ...                                                  1\n",
              "size_sqft                                                             700  ...                                                900\n",
              "created_at                                            2018-06-01 16:03:21  ...                                2018-06-30 14:14:50\n",
              "addr_street                                                24 COOK STREET  ...                                676 RIVERSIDE DRIVE\n",
              "addr_city                                                        Brooklyn  ...                                           New York\n",
              "addr_zip                                                            11206  ...                                              10031\n",
              "addr_lat                                                          40.7021  ...                                            40.8267\n",
              "addr_lon                                                          -73.943  ...                                           -73.9519\n",
              "bin                                                           3.40358e+06  ...                                        1.06237e+06\n",
              "bbl                                                            3031190022  ...                                         1020910048\n",
              "floor_count                                                             5  ...                                                 10\n",
              "year_built                                                           2007  ...                                               1911\n",
              "min_to_subway                                                      1.7667  ...                                                0.9\n",
              "has_doorman                                                             0  ...                                                  0\n",
              "has_elevator                                                            1  ...                                                  1\n",
              "has_fireplace                                                           0  ...                                                  0\n",
              "has_dishwasher                                                          1  ...                                                  1\n",
              "is_furnished                                                            0  ...                                                  0\n",
              "has_gym                                                                 0  ...                                                  0\n",
              "allows_pets                                                             1  ...                                                  1\n",
              "has_washer_dryer                                                        0  ...                                                  1\n",
              "has_garage                                                              0  ...                                                  0\n",
              "has_roofdeck                                                            1  ...                                                  0\n",
              "has_concierge                                                           0  ...                                                  0\n",
              "has_pool                                                                0  ...                                                  0\n",
              "has_garden                                                              0  ...                                                  0\n",
              "has_childrens_playroom                                                  0  ...                                                  0\n",
              "rent                                                                 2500  ...                                               3100\n",
              "no_fee                                                                  1  ...                                                  0\n",
              "description             TERRACE! \\r\\n\\r\\n-Elevator building\\r\\n-Roof a...  ...  This large 2 Bedroom has just been gut-renovat...\n",
              "neighborhood                                                 Williamsburg  ...                                   Hamilton Heights\n",
              "borough                                                          Brooklyn  ...                                          Manhattan\n",
              "unit                                                                  5AA  ...                                                 2F\n",
              "floornumber                                                             5  ...                                                  2\n",
              "line                                                                   AA  ...                                                  F\n",
              "\n",
              "[38 rows x 5 columns]"
            ]
          },
          "metadata": {
            "tags": []
          },
          "execution_count": 3
        }
      ]
    },
    {
      "cell_type": "markdown",
      "metadata": {
        "id": "Hnpw1gg3NJaz",
        "colab_type": "text"
      },
      "source": [
        "#### Build training data"
      ]
    },
    {
      "cell_type": "code",
      "metadata": {
        "id": "ISjYnltgNJa0",
        "colab_type": "code",
        "colab": {}
      },
      "source": [
        "# extract usable features\n",
        "feature_cols = [\n",
        "    'bedrooms', 'year_built', 'bathrooms', 'min_to_subway', \n",
        "    'size_sqft', 'no_fee', 'has_doorman'\n",
        "]\n",
        "train_features = train_df[feature_cols] \n",
        "\n",
        "# impute missing values with medians\n",
        "train_features = train_features.fillna(train_features.median(), axis=0)\n",
        "\n",
        "# construct target vector\n",
        "train_target = train_df['rent']"
      ],
      "execution_count": 0,
      "outputs": []
    },
    {
      "cell_type": "markdown",
      "metadata": {
        "id": "3Ul2DHJgNJa8",
        "colab_type": "text"
      },
      "source": [
        "#### Fit model"
      ]
    },
    {
      "cell_type": "code",
      "metadata": {
        "id": "cE1mSw8DNJa-",
        "colab_type": "code",
        "outputId": "085b58bd-7980-41f8-d657-0ffc9ed25b6f",
        "colab": {
          "base_uri": "https://localhost:8080/",
          "height": 170
        }
      },
      "source": [
        "lreg = LinearRegression()\n",
        "lreg.fit(train_features, train_target)\n",
        "\n",
        "rf = RandomForestRegressor()\n",
        "rf.fit(train_features, train_target)"
      ],
      "execution_count": 50,
      "outputs": [
        {
          "output_type": "stream",
          "text": [
            "/usr/local/lib/python3.6/dist-packages/sklearn/ensemble/forest.py:245: FutureWarning: The default value of n_estimators will change from 10 in version 0.20 to 100 in 0.22.\n",
            "  \"10 in version 0.20 to 100 in 0.22.\", FutureWarning)\n"
          ],
          "name": "stderr"
        },
        {
          "output_type": "execute_result",
          "data": {
            "text/plain": [
              "RandomForestRegressor(bootstrap=True, criterion='mse', max_depth=None,\n",
              "                      max_features='auto', max_leaf_nodes=None,\n",
              "                      min_impurity_decrease=0.0, min_impurity_split=None,\n",
              "                      min_samples_leaf=1, min_samples_split=2,\n",
              "                      min_weight_fraction_leaf=0.0, n_estimators=10,\n",
              "                      n_jobs=None, oob_score=False, random_state=None,\n",
              "                      verbose=0, warm_start=False)"
            ]
          },
          "metadata": {
            "tags": []
          },
          "execution_count": 50
        }
      ]
    },
    {
      "cell_type": "markdown",
      "metadata": {
        "id": "AN2vGTFrNJbD",
        "colab_type": "text"
      },
      "source": [
        "#### Predict and Measure Using Test 1"
      ]
    },
    {
      "cell_type": "code",
      "metadata": {
        "id": "UC7Shzr5NJbF",
        "colab_type": "code",
        "outputId": "0da16ff8-262c-4a15-8cf8-485d60d9d3d4",
        "colab": {
          "base_uri": "https://localhost:8080/",
          "height": 34
        }
      },
      "source": [
        "test_features = test_df[feature_cols] \n",
        "\n",
        "# impute missing values with medians\n",
        "test_features = test_features.fillna(train_features.median(), axis=0)\n",
        "\n",
        "# construct predictions \n",
        "test_df['predicted'] = rf.predict(test_features)\n",
        "\n",
        "mean_squared_error(test_df['rent'], test_df['predicted'])"
      ],
      "execution_count": 51,
      "outputs": [
        {
          "output_type": "execute_result",
          "data": {
            "text/plain": [
              "2650731.7484114342"
            ]
          },
          "metadata": {
            "tags": []
          },
          "execution_count": 51
        }
      ]
    },
    {
      "cell_type": "markdown",
      "metadata": {
        "id": "bC7xjDkVNJbK",
        "colab_type": "text"
      },
      "source": [
        "#### Combine Data, Predict Values for Test 2"
      ]
    },
    {
      "cell_type": "code",
      "metadata": {
        "id": "opX2Oe4INJbM",
        "colab_type": "code",
        "outputId": "22e7ebaa-abc0-462d-d1e6-f235d6cb3166",
        "colab": {
          "base_uri": "https://localhost:8080/",
          "height": 136
        }
      },
      "source": [
        "master_df = train_df.append(test_df, sort=False)\n",
        "\n",
        "master_features = master_df[feature_cols].fillna(master_df[feature_cols].median(), axis=0)\n",
        "master_target = master_df['rent']\n",
        "\n",
        "rf.fit(master_features, master_target)"
      ],
      "execution_count": 52,
      "outputs": [
        {
          "output_type": "execute_result",
          "data": {
            "text/plain": [
              "RandomForestRegressor(bootstrap=True, criterion='mse', max_depth=None,\n",
              "                      max_features='auto', max_leaf_nodes=None,\n",
              "                      min_impurity_decrease=0.0, min_impurity_split=None,\n",
              "                      min_samples_leaf=1, min_samples_split=2,\n",
              "                      min_weight_fraction_leaf=0.0, n_estimators=10,\n",
              "                      n_jobs=None, oob_score=False, random_state=None,\n",
              "                      verbose=0, warm_start=False)"
            ]
          },
          "metadata": {
            "tags": []
          },
          "execution_count": 52
        }
      ]
    },
    {
      "cell_type": "code",
      "metadata": {
        "id": "Zm40tpTCNJbP",
        "colab_type": "code",
        "colab": {}
      },
      "source": [
        ""
      ],
      "execution_count": 0,
      "outputs": []
    },
    {
      "cell_type": "markdown",
      "metadata": {
        "id": "nt_n1cNPNJbS",
        "colab_type": "text"
      },
      "source": [
        "#### Create Submission File for `test2`"
      ]
    },
    {
      "cell_type": "code",
      "metadata": {
        "id": "DdWrAsSlNJbT",
        "colab_type": "code",
        "outputId": "abe841ab-b9aa-4015-8649-6619cbe5f9f0",
        "colab": {
          "base_uri": "https://localhost:8080/",
          "height": 34
        }
      },
      "source": [
        "submit1_features = cf[feature_cols].fillna(master_df[feature_cols].median(), axis=0)\n",
        "cf['predictions'] = rf.predict(submit1_features)\n",
        "cf['predictions'].to_csv('sample_submission2.csv', header=True)\n",
        "\n",
        "cf['fake_rent'] = np.ones(cf['predictions'].shape) * master_target.median()\n",
        "mean_squared_error(cf['predictions'], cf['fake_rent'])"
      ],
      "execution_count": 54,
      "outputs": [
        {
          "output_type": "execute_result",
          "data": {
            "text/plain": [
              "6612413.287062759"
            ]
          },
          "metadata": {
            "tags": []
          },
          "execution_count": 54
        }
      ]
    },
    {
      "cell_type": "code",
      "metadata": {
        "id": "aCgEjPUGNJbW",
        "colab_type": "code",
        "colab": {}
      },
      "source": [
        ""
      ],
      "execution_count": 0,
      "outputs": []
    },
    {
      "cell_type": "markdown",
      "metadata": {
        "id": "MN3ChkeeNJbZ",
        "colab_type": "text"
      },
      "source": [
        "#### Create Submission File for `test3`"
      ]
    },
    {
      "cell_type": "code",
      "metadata": {
        "id": "Gow_xBw2NJbb",
        "colab_type": "code",
        "outputId": "cebd78b1-e077-4e77-9a22-5c188ecea9c5",
        "colab": {
          "base_uri": "https://localhost:8080/",
          "height": 34
        }
      },
      "source": [
        "submit2_features = submit2_df[feature_cols].fillna(master_df[feature_cols].median(), axis=0)\n",
        "submit2_df['predictions'] = lreg.predict(submit2_features)\n",
        "submit2_df['predictions'].to_csv('sample_submission2.csv', header=True)\n",
        "\n",
        "submit2_df['fake_rent'] = np.ones(submit2_df['predictions'].shape) * master_target.median()\n",
        "mean_squared_error(submit2_df['predictions'], submit2_df['fake_rent'])"
      ],
      "execution_count": 35,
      "outputs": [
        {
          "output_type": "execute_result",
          "data": {
            "text/plain": [
              "4017817.158625244"
            ]
          },
          "metadata": {
            "tags": []
          },
          "execution_count": 35
        }
      ]
    },
    {
      "cell_type": "code",
      "metadata": {
        "id": "cYrPy6AYNJbe",
        "colab_type": "code",
        "colab": {}
      },
      "source": [
        ""
      ],
      "execution_count": 0,
      "outputs": []
    },
    {
      "cell_type": "code",
      "metadata": {
        "id": "tOiDIyLANJbg",
        "colab_type": "code",
        "colab": {}
      },
      "source": [
        ""
      ],
      "execution_count": 0,
      "outputs": []
    },
    {
      "cell_type": "code",
      "metadata": {
        "id": "IK10_3EzNJbj",
        "colab_type": "code",
        "colab": {}
      },
      "source": [
        ""
      ],
      "execution_count": 0,
      "outputs": []
    },
    {
      "cell_type": "code",
      "metadata": {
        "id": "dB8T6yJYNJbm",
        "colab_type": "code",
        "colab": {}
      },
      "source": [
        ""
      ],
      "execution_count": 0,
      "outputs": []
    },
    {
      "cell_type": "code",
      "metadata": {
        "id": "dWbrwcWlNJbq",
        "colab_type": "code",
        "colab": {}
      },
      "source": [
        ""
      ],
      "execution_count": 0,
      "outputs": []
    }
  ]
}
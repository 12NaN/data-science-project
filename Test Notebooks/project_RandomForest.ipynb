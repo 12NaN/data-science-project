{
  "nbformat": 4,
  "nbformat_minor": 0,
  "metadata": {
    "colab": {
      "name": "project-Random.ipynb",
      "provenance": [],
      "collapsed_sections": [],
      "include_colab_link": true
    },
    "kernelspec": {
      "name": "python3",
      "display_name": "Python 3"
    }
  },
  "cells": [
    {
      "cell_type": "markdown",
      "metadata": {
        "id": "view-in-github",
        "colab_type": "text"
      },
      "source": [
        "<a href=\"https://colab.research.google.com/github/12NaN/data-science-project/blob/master/project_RandomForest.ipynb\" target=\"_parent\"><img src=\"https://colab.research.google.com/assets/colab-badge.svg\" alt=\"Open In Colab\"/></a>"
      ]
    },
    {
      "cell_type": "code",
      "metadata": {
        "id": "GELLoiUnjRIn",
        "colab_type": "code",
        "colab": {}
      },
      "source": [
        "import numpy as np\n",
        "import pandas as pd\n",
        "import matplotlib.pyplot as plt\n",
        "\n",
        "from sklearn.linear_model import LinearRegression\n",
        "from sklearn.metrics import mean_squared_error\n",
        "from sklearn.ensemble import RandomForestClassifier\n",
        "from sklearn.model_selection import train_test_split\n",
        "from sklearn.ensemble import RandomForestRegressor\n",
        "\n",
        "%matplotlib inline\n"
      ],
      "execution_count": 0,
      "outputs": []
    },
    {
      "cell_type": "code",
      "metadata": {
        "id": "8pQYjyHejiba",
        "colab_type": "code",
        "colab": {}
      },
      "source": [
        "train_df = pd.read_csv('https://grantmlong.com/data/SE_rents2018_train.csv', index_col=0)\n",
        "test_df = pd.read_csv('https://grantmlong.com/data/SE_rents2018_test1.csv', index_col=0)\n",
        "submit1_df = pd.read_csv('https://grantmlong.com/data/SE_rents2018_test2.csv', index_col=0)\n",
        "submit2_df = pd.read_csv('https://grantmlong.com/data/SE_rents2018_test3.csv', index_col=0)"
      ],
      "execution_count": 0,
      "outputs": []
    },
    {
      "cell_type": "code",
      "metadata": {
        "id": "Mc0U13wHjm4q",
        "colab_type": "code",
        "colab": {
          "base_uri": "https://localhost:8080/",
          "height": 1000
        },
        "outputId": "ee72b425-069a-4555-b05d-280a193db1d1"
      },
      "source": [
        "train_df.sample(5).transpose()"
      ],
      "execution_count": 3,
      "outputs": [
        {
          "output_type": "execute_result",
          "data": {
            "text/html": [
              "<div>\n",
              "<style scoped>\n",
              "    .dataframe tbody tr th:only-of-type {\n",
              "        vertical-align: middle;\n",
              "    }\n",
              "\n",
              "    .dataframe tbody tr th {\n",
              "        vertical-align: top;\n",
              "    }\n",
              "\n",
              "    .dataframe thead th {\n",
              "        text-align: right;\n",
              "    }\n",
              "</style>\n",
              "<table border=\"1\" class=\"dataframe\">\n",
              "  <thead>\n",
              "    <tr style=\"text-align: right;\">\n",
              "      <th>rental_id</th>\n",
              "      <th>7267399</th>\n",
              "      <th>7187728</th>\n",
              "      <th>7313305</th>\n",
              "      <th>7409185</th>\n",
              "      <th>7338100</th>\n",
              "    </tr>\n",
              "  </thead>\n",
              "  <tbody>\n",
              "    <tr>\n",
              "      <th>addr_unit</th>\n",
              "      <td>#B</td>\n",
              "      <td>#10E</td>\n",
              "      <td>#5F</td>\n",
              "      <td>#32A</td>\n",
              "      <td>#1D</td>\n",
              "    </tr>\n",
              "    <tr>\n",
              "      <th>building_id</th>\n",
              "      <td>60169</td>\n",
              "      <td>355315</td>\n",
              "      <td>548278</td>\n",
              "      <td>54790</td>\n",
              "      <td>78889</td>\n",
              "    </tr>\n",
              "    <tr>\n",
              "      <th>bedrooms</th>\n",
              "      <td>1</td>\n",
              "      <td>3</td>\n",
              "      <td>2</td>\n",
              "      <td>1</td>\n",
              "      <td>1</td>\n",
              "    </tr>\n",
              "    <tr>\n",
              "      <th>bathrooms</th>\n",
              "      <td>1</td>\n",
              "      <td>2</td>\n",
              "      <td>1</td>\n",
              "      <td>1</td>\n",
              "      <td>1</td>\n",
              "    </tr>\n",
              "    <tr>\n",
              "      <th>size_sqft</th>\n",
              "      <td>900</td>\n",
              "      <td>1250</td>\n",
              "      <td>1119</td>\n",
              "      <td>620</td>\n",
              "      <td>0</td>\n",
              "    </tr>\n",
              "    <tr>\n",
              "      <th>created_at</th>\n",
              "      <td>2018-06-12 22:16:35</td>\n",
              "      <td>2018-05-17 16:59:05</td>\n",
              "      <td>2018-06-27 17:00:31</td>\n",
              "      <td>2018-07-25 18:02:53</td>\n",
              "      <td>2018-07-06 11:28:53</td>\n",
              "    </tr>\n",
              "    <tr>\n",
              "      <th>addr_street</th>\n",
              "      <td>323 WEST 75 STREET</td>\n",
              "      <td>185 SOUTH 4 STREET</td>\n",
              "      <td>40 LINDEN BOULEVARD</td>\n",
              "      <td>560 WEST 43 STREET</td>\n",
              "      <td>315 EAST 74 STREET</td>\n",
              "    </tr>\n",
              "    <tr>\n",
              "      <th>addr_city</th>\n",
              "      <td>New York</td>\n",
              "      <td>Brooklyn</td>\n",
              "      <td>Brooklyn</td>\n",
              "      <td>New York</td>\n",
              "      <td>New York</td>\n",
              "    </tr>\n",
              "    <tr>\n",
              "      <th>addr_zip</th>\n",
              "      <td>10023</td>\n",
              "      <td>11211</td>\n",
              "      <td>11226</td>\n",
              "      <td>10036</td>\n",
              "      <td>10021</td>\n",
              "    </tr>\n",
              "    <tr>\n",
              "      <th>addr_lat</th>\n",
              "      <td>40.7824</td>\n",
              "      <td>40.7112</td>\n",
              "      <td>40.6519</td>\n",
              "      <td>40.7609</td>\n",
              "      <td>40.77</td>\n",
              "    </tr>\n",
              "    <tr>\n",
              "      <th>addr_lon</th>\n",
              "      <td>-73.984</td>\n",
              "      <td>-73.9605</td>\n",
              "      <td>-73.9575</td>\n",
              "      <td>-73.9976</td>\n",
              "      <td>-73.9564</td>\n",
              "    </tr>\n",
              "    <tr>\n",
              "      <th>bin</th>\n",
              "      <td>1.07939e+06</td>\n",
              "      <td>3.06329e+06</td>\n",
              "      <td>3.11671e+06</td>\n",
              "      <td>1.02691e+06</td>\n",
              "      <td>1.04493e+06</td>\n",
              "    </tr>\n",
              "    <tr>\n",
              "      <th>bbl</th>\n",
              "      <td>1011850008</td>\n",
              "      <td>3024320030</td>\n",
              "      <td>3050860027</td>\n",
              "      <td>1010710001</td>\n",
              "      <td>1014490009</td>\n",
              "    </tr>\n",
              "    <tr>\n",
              "      <th>floor_count</th>\n",
              "      <td>4</td>\n",
              "      <td>12</td>\n",
              "      <td>6</td>\n",
              "      <td>44</td>\n",
              "      <td>5</td>\n",
              "    </tr>\n",
              "    <tr>\n",
              "      <th>year_built</th>\n",
              "      <td>1925</td>\n",
              "      <td>2008</td>\n",
              "      <td>1937</td>\n",
              "      <td>1987</td>\n",
              "      <td>1910</td>\n",
              "    </tr>\n",
              "    <tr>\n",
              "      <th>min_to_subway</th>\n",
              "      <td>4.4667</td>\n",
              "      <td>3.65</td>\n",
              "      <td>4.3667</td>\n",
              "      <td>6.7333</td>\n",
              "      <td>5.05</td>\n",
              "    </tr>\n",
              "    <tr>\n",
              "      <th>has_doorman</th>\n",
              "      <td>0</td>\n",
              "      <td>1</td>\n",
              "      <td>0</td>\n",
              "      <td>1</td>\n",
              "      <td>0</td>\n",
              "    </tr>\n",
              "    <tr>\n",
              "      <th>has_elevator</th>\n",
              "      <td>0</td>\n",
              "      <td>1</td>\n",
              "      <td>1</td>\n",
              "      <td>0</td>\n",
              "      <td>0</td>\n",
              "    </tr>\n",
              "    <tr>\n",
              "      <th>has_fireplace</th>\n",
              "      <td>0</td>\n",
              "      <td>0</td>\n",
              "      <td>0</td>\n",
              "      <td>0</td>\n",
              "      <td>0</td>\n",
              "    </tr>\n",
              "    <tr>\n",
              "      <th>has_dishwasher</th>\n",
              "      <td>1</td>\n",
              "      <td>1</td>\n",
              "      <td>1</td>\n",
              "      <td>1</td>\n",
              "      <td>0</td>\n",
              "    </tr>\n",
              "    <tr>\n",
              "      <th>is_furnished</th>\n",
              "      <td>0</td>\n",
              "      <td>0</td>\n",
              "      <td>0</td>\n",
              "      <td>0</td>\n",
              "      <td>0</td>\n",
              "    </tr>\n",
              "    <tr>\n",
              "      <th>has_gym</th>\n",
              "      <td>0</td>\n",
              "      <td>1</td>\n",
              "      <td>0</td>\n",
              "      <td>1</td>\n",
              "      <td>0</td>\n",
              "    </tr>\n",
              "    <tr>\n",
              "      <th>allows_pets</th>\n",
              "      <td>0</td>\n",
              "      <td>1</td>\n",
              "      <td>1</td>\n",
              "      <td>1</td>\n",
              "      <td>1</td>\n",
              "    </tr>\n",
              "    <tr>\n",
              "      <th>has_washer_dryer</th>\n",
              "      <td>0</td>\n",
              "      <td>1</td>\n",
              "      <td>1</td>\n",
              "      <td>1</td>\n",
              "      <td>0</td>\n",
              "    </tr>\n",
              "    <tr>\n",
              "      <th>has_garage</th>\n",
              "      <td>0</td>\n",
              "      <td>0</td>\n",
              "      <td>0</td>\n",
              "      <td>1</td>\n",
              "      <td>0</td>\n",
              "    </tr>\n",
              "    <tr>\n",
              "      <th>has_roofdeck</th>\n",
              "      <td>0</td>\n",
              "      <td>1</td>\n",
              "      <td>0</td>\n",
              "      <td>0</td>\n",
              "      <td>0</td>\n",
              "    </tr>\n",
              "    <tr>\n",
              "      <th>has_concierge</th>\n",
              "      <td>0</td>\n",
              "      <td>1</td>\n",
              "      <td>0</td>\n",
              "      <td>1</td>\n",
              "      <td>0</td>\n",
              "    </tr>\n",
              "    <tr>\n",
              "      <th>has_pool</th>\n",
              "      <td>0</td>\n",
              "      <td>0</td>\n",
              "      <td>0</td>\n",
              "      <td>1</td>\n",
              "      <td>0</td>\n",
              "    </tr>\n",
              "    <tr>\n",
              "      <th>has_garden</th>\n",
              "      <td>1</td>\n",
              "      <td>0</td>\n",
              "      <td>0</td>\n",
              "      <td>0</td>\n",
              "      <td>0</td>\n",
              "    </tr>\n",
              "    <tr>\n",
              "      <th>has_childrens_playroom</th>\n",
              "      <td>0</td>\n",
              "      <td>0</td>\n",
              "      <td>0</td>\n",
              "      <td>0</td>\n",
              "      <td>0</td>\n",
              "    </tr>\n",
              "    <tr>\n",
              "      <th>rent</th>\n",
              "      <td>3900</td>\n",
              "      <td>4600</td>\n",
              "      <td>2540</td>\n",
              "      <td>3400</td>\n",
              "      <td>2795</td>\n",
              "    </tr>\n",
              "    <tr>\n",
              "      <th>no_fee</th>\n",
              "      <td>0</td>\n",
              "      <td>1</td>\n",
              "      <td>1</td>\n",
              "      <td>1</td>\n",
              "      <td>1</td>\n",
              "    </tr>\n",
              "    <tr>\n",
              "      <th>description</th>\n",
              "      <td>Welcome home to this rare UWS duplex garden ap...</td>\n",
              "      <td>185 South 4th Street The Continental.\\n\\nBeaut...</td>\n",
              "      <td>Gross $2,750 / Net $2,540 (this reflects 1 mon...</td>\n",
              "      <td>Available for 3-month lease only, please conta...</td>\n",
              "      <td>Welcome home!\\r\\n\\r\\nThis beautiful 1 bedroom ...</td>\n",
              "    </tr>\n",
              "    <tr>\n",
              "      <th>neighborhood</th>\n",
              "      <td>Upper West Side</td>\n",
              "      <td>Williamsburg</td>\n",
              "      <td>Flatbush</td>\n",
              "      <td>Midtown West</td>\n",
              "      <td>Upper East Side</td>\n",
              "    </tr>\n",
              "    <tr>\n",
              "      <th>borough</th>\n",
              "      <td>Manhattan</td>\n",
              "      <td>Brooklyn</td>\n",
              "      <td>Brooklyn</td>\n",
              "      <td>Manhattan</td>\n",
              "      <td>Manhattan</td>\n",
              "    </tr>\n",
              "    <tr>\n",
              "      <th>unit</th>\n",
              "      <td>B</td>\n",
              "      <td>10E</td>\n",
              "      <td>5F</td>\n",
              "      <td>32A</td>\n",
              "      <td>1D</td>\n",
              "    </tr>\n",
              "    <tr>\n",
              "      <th>floornumber</th>\n",
              "      <td>NaN</td>\n",
              "      <td>10</td>\n",
              "      <td>5</td>\n",
              "      <td>32</td>\n",
              "      <td>1</td>\n",
              "    </tr>\n",
              "    <tr>\n",
              "      <th>line</th>\n",
              "      <td>NaN</td>\n",
              "      <td>E</td>\n",
              "      <td>F</td>\n",
              "      <td>A</td>\n",
              "      <td>D</td>\n",
              "    </tr>\n",
              "  </tbody>\n",
              "</table>\n",
              "</div>"
            ],
            "text/plain": [
              "rental_id                                                         7267399  ...                                            7338100\n",
              "addr_unit                                                              #B  ...                                                #1D\n",
              "building_id                                                         60169  ...                                              78889\n",
              "bedrooms                                                                1  ...                                                  1\n",
              "bathrooms                                                               1  ...                                                  1\n",
              "size_sqft                                                             900  ...                                                  0\n",
              "created_at                                            2018-06-12 22:16:35  ...                                2018-07-06 11:28:53\n",
              "addr_street                                            323 WEST 75 STREET  ...                                 315 EAST 74 STREET\n",
              "addr_city                                                        New York  ...                                           New York\n",
              "addr_zip                                                            10023  ...                                              10021\n",
              "addr_lat                                                          40.7824  ...                                              40.77\n",
              "addr_lon                                                          -73.984  ...                                           -73.9564\n",
              "bin                                                           1.07939e+06  ...                                        1.04493e+06\n",
              "bbl                                                            1011850008  ...                                         1014490009\n",
              "floor_count                                                             4  ...                                                  5\n",
              "year_built                                                           1925  ...                                               1910\n",
              "min_to_subway                                                      4.4667  ...                                               5.05\n",
              "has_doorman                                                             0  ...                                                  0\n",
              "has_elevator                                                            0  ...                                                  0\n",
              "has_fireplace                                                           0  ...                                                  0\n",
              "has_dishwasher                                                          1  ...                                                  0\n",
              "is_furnished                                                            0  ...                                                  0\n",
              "has_gym                                                                 0  ...                                                  0\n",
              "allows_pets                                                             0  ...                                                  1\n",
              "has_washer_dryer                                                        0  ...                                                  0\n",
              "has_garage                                                              0  ...                                                  0\n",
              "has_roofdeck                                                            0  ...                                                  0\n",
              "has_concierge                                                           0  ...                                                  0\n",
              "has_pool                                                                0  ...                                                  0\n",
              "has_garden                                                              1  ...                                                  0\n",
              "has_childrens_playroom                                                  0  ...                                                  0\n",
              "rent                                                                 3900  ...                                               2795\n",
              "no_fee                                                                  0  ...                                                  1\n",
              "description             Welcome home to this rare UWS duplex garden ap...  ...  Welcome home!\\r\\n\\r\\nThis beautiful 1 bedroom ...\n",
              "neighborhood                                              Upper West Side  ...                                    Upper East Side\n",
              "borough                                                         Manhattan  ...                                          Manhattan\n",
              "unit                                                                    B  ...                                                 1D\n",
              "floornumber                                                           NaN  ...                                                  1\n",
              "line                                                                  NaN  ...                                                  D\n",
              "\n",
              "[38 rows x 5 columns]"
            ]
          },
          "metadata": {
            "tags": []
          },
          "execution_count": 3
        }
      ]
    },
    {
      "cell_type": "code",
      "metadata": {
        "id": "w5u_kiJ7ycWK",
        "colab_type": "code",
        "colab": {}
      },
      "source": [
        "submit1_df['min_to_subway'] = submit1_df['min_to_subway'].fillna(submit1_df['min_to_subway'].mean())\n",
        "submit1_df.year_built = submit1_df.year_built.fillna(submit1_df.year_built.median(), axis=0)\n"
      ],
      "execution_count": 0,
      "outputs": []
    },
    {
      "cell_type": "code",
      "metadata": {
        "id": "8JHLg854jplu",
        "colab_type": "code",
        "colab": {}
      },
      "source": [
        "# extract usable features\n",
        "feature_cols = [\n",
        "    'bedrooms', 'year_built', 'bathrooms', 'min_to_subway', \n",
        "    'size_sqft', 'no_fee', 'has_doorman'\n",
        "]\n",
        "train_features = train_df[feature_cols] \n",
        "\n",
        "# impute missing values with medians\n",
        "train_features = train_features.fillna(train_features.median(), axis=0)\n",
        "\n",
        "# construct target vector\n",
        "train_target = train_df['rent']"
      ],
      "execution_count": 0,
      "outputs": []
    },
    {
      "cell_type": "code",
      "metadata": {
        "id": "8p6tWqN6jsqn",
        "colab_type": "code",
        "colab": {
          "base_uri": "https://localhost:8080/",
          "height": 34
        },
        "outputId": "736613dd-915f-40f6-c47f-a65feac2a8ee"
      },
      "source": [
        "lreg = LinearRegression()\n",
        "lreg.fit(train_features, train_target)"
      ],
      "execution_count": 5,
      "outputs": [
        {
          "output_type": "execute_result",
          "data": {
            "text/plain": [
              "LinearRegression(copy_X=True, fit_intercept=True, n_jobs=None, normalize=False)"
            ]
          },
          "metadata": {
            "tags": []
          },
          "execution_count": 5
        }
      ]
    },
    {
      "cell_type": "code",
      "metadata": {
        "id": "oWN8dQ1Mj3nB",
        "colab_type": "code",
        "colab": {
          "base_uri": "https://localhost:8080/",
          "height": 34
        },
        "outputId": "97d02525-f922-468f-a077-0c9acb9b826b"
      },
      "source": [
        "test_features = test_df[feature_cols] \n",
        "\n",
        "# impute missing values with medians\n",
        "test_features = test_features.fillna(train_features.median(), axis=0)\n",
        "\n",
        "# construct predictions \n",
        "test_df['predicted'] = lreg.predict(test_features)\n",
        "\n",
        "mean_squared_error(test_df['rent'], test_df['predicted'])"
      ],
      "execution_count": 6,
      "outputs": [
        {
          "output_type": "execute_result",
          "data": {
            "text/plain": [
              "3775738.256385183"
            ]
          },
          "metadata": {
            "tags": []
          },
          "execution_count": 6
        }
      ]
    },
    {
      "cell_type": "code",
      "metadata": {
        "id": "uYk-wqwYj79s",
        "colab_type": "code",
        "colab": {
          "base_uri": "https://localhost:8080/",
          "height": 34
        },
        "outputId": "13b0785c-5c90-4911-8aa8-041b092b4ba7"
      },
      "source": [
        "master_df = train_df.append(test_df, sort=False)\n",
        "\n",
        "master_features = master_df[feature_cols].fillna(master_df[feature_cols].median(), axis=0)\n",
        "master_target = master_df['rent']\n",
        "\n",
        "lreg.fit(master_features, master_target)"
      ],
      "execution_count": 7,
      "outputs": [
        {
          "output_type": "execute_result",
          "data": {
            "text/plain": [
              "LinearRegression(copy_X=True, fit_intercept=True, n_jobs=None, normalize=False)"
            ]
          },
          "metadata": {
            "tags": []
          },
          "execution_count": 7
        }
      ]
    },
    {
      "cell_type": "code",
      "metadata": {
        "id": "ixsl8xoCkY0D",
        "colab_type": "code",
        "colab": {
          "base_uri": "https://localhost:8080/",
          "height": 34
        },
        "outputId": "ab3ff0a7-268c-4839-9dc0-4b645681bc55"
      },
      "source": [
        "submit1_features = submit1_df[feature_cols].fillna(master_df[feature_cols].median(), axis=0)\n",
        "submit1_df['predictions'] = lreg.predict(submit1_features)\n",
        "submit1_df['predictions'].to_csv('sample_submission1.csv', header=True)\n",
        "\n",
        "submit1_df['fake_rent'] = np.ones(submit1_df['predictions'].shape) * master_target.median()\n",
        "mean_squared_error(submit1_df['predictions'], submit1_df['fake_rent'])\n"
      ],
      "execution_count": 8,
      "outputs": [
        {
          "output_type": "execute_result",
          "data": {
            "text/plain": [
              "4608738.849344819"
            ]
          },
          "metadata": {
            "tags": []
          },
          "execution_count": 8
        }
      ]
    },
    {
      "cell_type": "code",
      "metadata": {
        "id": "YjqsBYvPsmPV",
        "colab_type": "code",
        "colab": {}
      },
      "source": [
        "# Instantiate model with 1000 decision trees\n",
        "rf = RandomForestRegressor(n_estimators = 1000, random_state = 42)\n",
        "rf.fit(train_features, train_target);"
      ],
      "execution_count": 0,
      "outputs": []
    },
    {
      "cell_type": "code",
      "metadata": {
        "id": "N7pEzS_E9y1f",
        "colab_type": "code",
        "colab": {
          "base_uri": "https://localhost:8080/",
          "height": 34
        },
        "outputId": "aa9f34f4-9462-4b07-8fc7-5f837c3afd61"
      },
      "source": [
        "\n",
        "test_features = test_df[feature_cols] \n",
        "test_features = test_features.fillna(train_features.median(), axis=0)\n",
        "submit1_df['predictions'] = rf.predict(submit1_features)\n",
        "# Probabilities for each cla\n",
        "print('Mean squared Error:', mean_squared_error(test_df['rent'], submit1_df['predictions']))"
      ],
      "execution_count": 77,
      "outputs": [
        {
          "output_type": "stream",
          "text": [
            "Mean squared Error: 13647530.009061173\n"
          ],
          "name": "stdout"
        }
      ]
    },
    {
      "cell_type": "code",
      "metadata": {
        "id": "uIGTbhbgxT0B",
        "colab_type": "code",
        "colab": {
          "base_uri": "https://localhost:8080/",
          "height": 714
        },
        "outputId": "4cfed7ce-f112-4600-b5e7-9eda0d4d883f"
      },
      "source": [
        "submit1_df.isna().sum()\n"
      ],
      "execution_count": 58,
      "outputs": [
        {
          "output_type": "execute_result",
          "data": {
            "text/plain": [
              "addr_unit                   29\n",
              "building_id                  0\n",
              "bedrooms                     0\n",
              "bathrooms                    0\n",
              "size_sqft                    0\n",
              "created_at                   0\n",
              "addr_street                  0\n",
              "addr_city                    0\n",
              "addr_zip                     0\n",
              "addr_lat                     0\n",
              "addr_lon                     0\n",
              "bin                          0\n",
              "bbl                          0\n",
              "floor_count                  0\n",
              "year_built                   0\n",
              "min_to_subway                0\n",
              "has_doorman                  0\n",
              "has_elevator                 0\n",
              "has_fireplace                0\n",
              "has_dishwasher               0\n",
              "is_furnished                 0\n",
              "has_gym                      0\n",
              "allows_pets                  0\n",
              "has_washer_dryer             0\n",
              "has_garage                   0\n",
              "has_roofdeck                 0\n",
              "has_concierge                0\n",
              "has_pool                     0\n",
              "has_garden                   0\n",
              "has_childrens_playroom       0\n",
              "rent                      2000\n",
              "no_fee                       0\n",
              "description                  0\n",
              "neighborhood                 1\n",
              "borough                      0\n",
              "unit                        29\n",
              "floornumber                263\n",
              "line                       612\n",
              "predictions                  0\n",
              "fake_rent                    0\n",
              "dtype: int64"
            ]
          },
          "metadata": {
            "tags": []
          },
          "execution_count": 58
        }
      ]
    }
  ]
}
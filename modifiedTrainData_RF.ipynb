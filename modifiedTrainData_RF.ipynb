{
  "nbformat": 4,
  "nbformat_minor": 0,
  "metadata": {
    "colab": {
      "name": "modifiedTrainData_RF.ipynb",
      "provenance": [],
      "include_colab_link": true
    },
    "kernelspec": {
      "name": "python3",
      "display_name": "Python 3"
    }
  },
  "cells": [
    {
      "cell_type": "markdown",
      "metadata": {
        "id": "view-in-github",
        "colab_type": "text"
      },
      "source": [
        "<a href=\"https://colab.research.google.com/github/12NaN/data-science-project/blob/master/modifiedTrainData_RF.ipynb\" target=\"_parent\"><img src=\"https://colab.research.google.com/assets/colab-badge.svg\" alt=\"Open In Colab\"/></a>"
      ]
    },
    {
      "cell_type": "code",
      "metadata": {
        "id": "Z0woRjooqoYJ",
        "colab_type": "code",
        "colab": {}
      },
      "source": [
        "\n",
        "import pandas as pd\n",
        "import matplotlib.pyplot as plt\n",
        "import numpy as np\n",
        "from sklearn.linear_model import LinearRegression\n",
        "from sklearn.metrics import mean_squared_error\n",
        "from google.colab import files\n",
        "from sklearn.ensemble import RandomForestRegressor , GradientBoostingRegressor\n",
        "from sklearn.tree import DecisionTreeRegressor \n",
        "from sklearn.model_selection import KFold, train_test_split\n",
        "import xgboost as xgb\n",
        "%matplotlib inline"
      ],
      "execution_count": 0,
      "outputs": []
    },
    {
      "cell_type": "code",
      "metadata": {
        "id": "x1TGyOFrqtB6",
        "colab_type": "code",
        "colab": {}
      },
      "source": [
        "train_df = pd.read_csv('https://grantmlong.com/data/SE_rents2018_train.csv', index_col=0)\n",
        "test_df = pd.read_csv('https://grantmlong.com/data/SE_rents2018_test1.csv', index_col=0)\n",
        "submit1_df = pd.read_csv('https://grantmlong.com/data/SE_rents2018_test2.csv', index_col=0)\n",
        "submit2_df = pd.read_csv('https://grantmlong.com/data/SE_rents2018_test3.csv', index_col=0)\n",
        "schools_df = pd.read_csv('https://data.cityofnewyork.us/resource/23z9-6uk9.csv', usecols = ['postcode'])\n",
        "\n",
        "#train_df = train_df.drop(train_df[(train_df['size_sqft']>8000)& (train_df['rent']<10000)].index).reset_index(drop=True)\n",
        "\n",
        "#train_df = train_df.drop(train_df[(train_df['bathrooms']>=12) \n",
        "                       #  & (train_df['rent']<10000)].index).reset_index(drop=True)\n",
        "\n",
        "#train_df = train_df.drop(train_df[(train_df['bathrooms']==6) \n",
        "                       #  & (train_df['rent']<20000)].index).reset_index(drop=True)\n",
        "\n",
        "\n",
        "#train_df = train_df.drop(train_df[(train_df['bedrooms']>=8) \n",
        "                        # & (train_df['rent']<20000)].index).reset_index(drop=True)\n",
        "\n",
        "#train_df = pd.merge(train_df,schools_df,left_on=\"addr_zip\", right_on=\"postcode\")\n",
        "#cf = submit2_df #retaining the dataframe in cf instead incase I want to look at the original without edits\n",
        "#cf.min_to_subway = cf.min_to_subway.fillna(cf.min_to_subway.mean(), axis=0) #Replacing empty values with the mean of the entire column\n",
        "#cf.year_built = cf.year_built.fillna(cf.year_built.median(), axis=0) #Replacing empty values with the median of the entire column"
      ],
      "execution_count": 0,
      "outputs": []
    },
    {
      "cell_type": "code",
      "metadata": {
        "id": "SdcRZ3RGO9G2",
        "colab_type": "code",
        "colab": {}
      },
      "source": [
        "\n",
        "# Append test1 to train_df\n",
        "train_df = train_df.append(test_df, ignore_index = True)"
      ],
      "execution_count": 0,
      "outputs": []
    },
    {
      "cell_type": "code",
      "metadata": {
        "id": "y_8uILoFSLcK",
        "colab_type": "code",
        "colab": {
          "base_uri": "https://localhost:8080/",
          "height": 187
        },
        "outputId": "2ce404d9-6789-4f95-a97f-fccc686e7c26"
      },
      "source": [
        "cols_with_null = train_df.columns[train_df.isna().any()] # Return columns with null values \n",
        "\n",
        "train_df[cols_with_null].isna().sum().sort_values(ascending=False) # Number of null values"
      ],
      "execution_count": 404,
      "outputs": [
        {
          "output_type": "execute_result",
          "data": {
            "text/plain": [
              "line             4135\n",
              "floornumber      1502\n",
              "year_built        470\n",
              "min_to_subway     143\n",
              "unit              114\n",
              "addr_unit         110\n",
              "description        16\n",
              "neighborhood        3\n",
              "bin                 1\n",
              "dtype: int64"
            ]
          },
          "metadata": {
            "tags": []
          },
          "execution_count": 404
        }
      ]
    },
    {
      "cell_type": "code",
      "metadata": {
        "id": "doXV-7Rqiq66",
        "colab_type": "code",
        "colab": {}
      },
      "source": [
        "#missing data for  df_train\n",
        "\n",
        "cf = train_df #retaining the dataframe in cf instead incase I want to look at the original without edits\n",
        "cf.min_to_subway = cf.min_to_subway.fillna(cf.min_to_subway.mean(), axis=0) #Replacing empty values with the mean of the entire column\n",
        "cf.year_built = cf.year_built.fillna(cf.year_built.mean(), axis=0) #Replacing empty values with the median of the entire column\n",
        "cf.floor_count = cf.floor_count.fillna(cf.floor_count.mean(), axis=0)\n",
        "cf.floornumber = cf.floornumber.fillna(cf.floornumber.mean(), axis=0)\n",
        "cf.size_sqft = cf.size_sqft.fillna(cf.size_sqft.mean(), axis=0)\n"
      ],
      "execution_count": 0,
      "outputs": []
    },
    {
      "cell_type": "code",
      "metadata": {
        "id": "leQjJA8zXZsY",
        "colab_type": "code",
        "colab": {
          "base_uri": "https://localhost:8080/",
          "height": 680
        },
        "outputId": "3b0b2c60-e014-4b11-b01e-e133cfa46392"
      },
      "source": [
        "pd.isnull(train_df).sum() > 0"
      ],
      "execution_count": 406,
      "outputs": [
        {
          "output_type": "execute_result",
          "data": {
            "text/plain": [
              "addr_unit                  True\n",
              "building_id               False\n",
              "bedrooms                  False\n",
              "bathrooms                 False\n",
              "size_sqft                 False\n",
              "created_at                False\n",
              "addr_street               False\n",
              "addr_city                 False\n",
              "addr_zip                  False\n",
              "addr_lat                  False\n",
              "addr_lon                  False\n",
              "bin                        True\n",
              "bbl                       False\n",
              "floor_count               False\n",
              "year_built                False\n",
              "min_to_subway             False\n",
              "has_doorman               False\n",
              "has_elevator              False\n",
              "has_fireplace             False\n",
              "has_dishwasher            False\n",
              "is_furnished              False\n",
              "has_gym                   False\n",
              "allows_pets               False\n",
              "has_washer_dryer          False\n",
              "has_garage                False\n",
              "has_roofdeck              False\n",
              "has_concierge             False\n",
              "has_pool                  False\n",
              "has_garden                False\n",
              "has_childrens_playroom    False\n",
              "rent                      False\n",
              "no_fee                    False\n",
              "description                True\n",
              "neighborhood               True\n",
              "borough                   False\n",
              "unit                       True\n",
              "floornumber               False\n",
              "line                       True\n",
              "dtype: bool"
            ]
          },
          "metadata": {
            "tags": []
          },
          "execution_count": 406
        }
      ]
    },
    {
      "cell_type": "code",
      "metadata": {
        "id": "NycADHBgqu3c",
        "colab_type": "code",
        "outputId": "1bb0591b-8b79-47aa-ee78-e13f2953a313",
        "colab": {
          "base_uri": "https://localhost:8080/",
          "height": 1000
        }
      },
      "source": [
        "train_df.sample(5).transpose()"
      ],
      "execution_count": 407,
      "outputs": [
        {
          "output_type": "execute_result",
          "data": {
            "text/html": [
              "<div>\n",
              "<style scoped>\n",
              "    .dataframe tbody tr th:only-of-type {\n",
              "        vertical-align: middle;\n",
              "    }\n",
              "\n",
              "    .dataframe tbody tr th {\n",
              "        vertical-align: top;\n",
              "    }\n",
              "\n",
              "    .dataframe thead th {\n",
              "        text-align: right;\n",
              "    }\n",
              "</style>\n",
              "<table border=\"1\" class=\"dataframe\">\n",
              "  <thead>\n",
              "    <tr style=\"text-align: right;\">\n",
              "      <th></th>\n",
              "      <th>651</th>\n",
              "      <th>5413</th>\n",
              "      <th>10967</th>\n",
              "      <th>6025</th>\n",
              "      <th>11697</th>\n",
              "    </tr>\n",
              "  </thead>\n",
              "  <tbody>\n",
              "    <tr>\n",
              "      <th>addr_unit</th>\n",
              "      <td>#3</td>\n",
              "      <td>#3</td>\n",
              "      <td>#5B</td>\n",
              "      <td>#4A</td>\n",
              "      <td>#3</td>\n",
              "    </tr>\n",
              "    <tr>\n",
              "      <th>building_id</th>\n",
              "      <td>1305769</td>\n",
              "      <td>34501</td>\n",
              "      <td>49807</td>\n",
              "      <td>88069</td>\n",
              "      <td>379990</td>\n",
              "    </tr>\n",
              "    <tr>\n",
              "      <th>bedrooms</th>\n",
              "      <td>2</td>\n",
              "      <td>1</td>\n",
              "      <td>2</td>\n",
              "      <td>3</td>\n",
              "      <td>2</td>\n",
              "    </tr>\n",
              "    <tr>\n",
              "      <th>bathrooms</th>\n",
              "      <td>1</td>\n",
              "      <td>1</td>\n",
              "      <td>2</td>\n",
              "      <td>1</td>\n",
              "      <td>1</td>\n",
              "    </tr>\n",
              "    <tr>\n",
              "      <th>size_sqft</th>\n",
              "      <td>800</td>\n",
              "      <td>2400</td>\n",
              "      <td>1190</td>\n",
              "      <td>1100</td>\n",
              "      <td>800</td>\n",
              "    </tr>\n",
              "    <tr>\n",
              "      <th>created_at</th>\n",
              "      <td>2018-05-09 15:11:36</td>\n",
              "      <td>2018-06-02 12:23:43</td>\n",
              "      <td>2018-05-08 14:12:51</td>\n",
              "      <td>2018-07-13 21:18:40</td>\n",
              "      <td>2018-05-22 20:36:55</td>\n",
              "    </tr>\n",
              "    <tr>\n",
              "      <th>addr_street</th>\n",
              "      <td>80-21 ASTORIA BOULEVARD</td>\n",
              "      <td>529 9 AVENUE</td>\n",
              "      <td>308 EAST 38 STREET</td>\n",
              "      <td>1510 YORK AVENUE</td>\n",
              "      <td>858 METROPOLITAN AVENUE</td>\n",
              "    </tr>\n",
              "    <tr>\n",
              "      <th>addr_city</th>\n",
              "      <td>East Elmhurst</td>\n",
              "      <td>New York</td>\n",
              "      <td>New York</td>\n",
              "      <td>New York</td>\n",
              "      <td>Brooklyn</td>\n",
              "    </tr>\n",
              "    <tr>\n",
              "      <th>addr_zip</th>\n",
              "      <td>11370</td>\n",
              "      <td>10018</td>\n",
              "      <td>10016</td>\n",
              "      <td>10075</td>\n",
              "      <td>11211</td>\n",
              "    </tr>\n",
              "    <tr>\n",
              "      <th>addr_lat</th>\n",
              "      <td>40.7655</td>\n",
              "      <td>40.7569</td>\n",
              "      <td>40.7468</td>\n",
              "      <td>40.7718</td>\n",
              "      <td>40.7144</td>\n",
              "    </tr>\n",
              "    <tr>\n",
              "      <th>addr_lon</th>\n",
              "      <td>-73.8883</td>\n",
              "      <td>-73.9941</td>\n",
              "      <td>-73.9735</td>\n",
              "      <td>-73.9497</td>\n",
              "      <td>-73.9404</td>\n",
              "    </tr>\n",
              "    <tr>\n",
              "      <th>bin</th>\n",
              "      <td>4.43019e+06</td>\n",
              "      <td>1.013e+06</td>\n",
              "      <td>1.02192e+06</td>\n",
              "      <td>1.05077e+06</td>\n",
              "      <td>3.07034e+06</td>\n",
              "    </tr>\n",
              "    <tr>\n",
              "      <th>bbl</th>\n",
              "      <td>4010330031</td>\n",
              "      <td>1007370034</td>\n",
              "      <td>1009430052</td>\n",
              "      <td>1015760049</td>\n",
              "      <td>3029160025</td>\n",
              "    </tr>\n",
              "    <tr>\n",
              "      <th>floor_count</th>\n",
              "      <td>3</td>\n",
              "      <td>4</td>\n",
              "      <td>22</td>\n",
              "      <td>6</td>\n",
              "      <td>4</td>\n",
              "    </tr>\n",
              "    <tr>\n",
              "      <th>year_built</th>\n",
              "      <td>1994</td>\n",
              "      <td>1900</td>\n",
              "      <td>2001</td>\n",
              "      <td>1937</td>\n",
              "      <td>1920</td>\n",
              "    </tr>\n",
              "    <tr>\n",
              "      <th>min_to_subway</th>\n",
              "      <td>19.8333</td>\n",
              "      <td>1.8667</td>\n",
              "      <td>5.7333</td>\n",
              "      <td>10.1333</td>\n",
              "      <td>2.6667</td>\n",
              "    </tr>\n",
              "    <tr>\n",
              "      <th>has_doorman</th>\n",
              "      <td>0</td>\n",
              "      <td>0</td>\n",
              "      <td>1</td>\n",
              "      <td>0</td>\n",
              "      <td>0</td>\n",
              "    </tr>\n",
              "    <tr>\n",
              "      <th>has_elevator</th>\n",
              "      <td>0</td>\n",
              "      <td>0</td>\n",
              "      <td>1</td>\n",
              "      <td>0</td>\n",
              "      <td>0</td>\n",
              "    </tr>\n",
              "    <tr>\n",
              "      <th>has_fireplace</th>\n",
              "      <td>0</td>\n",
              "      <td>1</td>\n",
              "      <td>0</td>\n",
              "      <td>0</td>\n",
              "      <td>0</td>\n",
              "    </tr>\n",
              "    <tr>\n",
              "      <th>has_dishwasher</th>\n",
              "      <td>1</td>\n",
              "      <td>1</td>\n",
              "      <td>0</td>\n",
              "      <td>0</td>\n",
              "      <td>0</td>\n",
              "    </tr>\n",
              "    <tr>\n",
              "      <th>is_furnished</th>\n",
              "      <td>0</td>\n",
              "      <td>0</td>\n",
              "      <td>0</td>\n",
              "      <td>0</td>\n",
              "      <td>0</td>\n",
              "    </tr>\n",
              "    <tr>\n",
              "      <th>has_gym</th>\n",
              "      <td>0</td>\n",
              "      <td>0</td>\n",
              "      <td>1</td>\n",
              "      <td>0</td>\n",
              "      <td>0</td>\n",
              "    </tr>\n",
              "    <tr>\n",
              "      <th>allows_pets</th>\n",
              "      <td>0</td>\n",
              "      <td>1</td>\n",
              "      <td>1</td>\n",
              "      <td>0</td>\n",
              "      <td>0</td>\n",
              "    </tr>\n",
              "    <tr>\n",
              "      <th>has_washer_dryer</th>\n",
              "      <td>0</td>\n",
              "      <td>1</td>\n",
              "      <td>1</td>\n",
              "      <td>0</td>\n",
              "      <td>0</td>\n",
              "    </tr>\n",
              "    <tr>\n",
              "      <th>has_garage</th>\n",
              "      <td>0</td>\n",
              "      <td>0</td>\n",
              "      <td>0</td>\n",
              "      <td>0</td>\n",
              "      <td>0</td>\n",
              "    </tr>\n",
              "    <tr>\n",
              "      <th>has_roofdeck</th>\n",
              "      <td>0</td>\n",
              "      <td>1</td>\n",
              "      <td>1</td>\n",
              "      <td>0</td>\n",
              "      <td>0</td>\n",
              "    </tr>\n",
              "    <tr>\n",
              "      <th>has_concierge</th>\n",
              "      <td>0</td>\n",
              "      <td>0</td>\n",
              "      <td>0</td>\n",
              "      <td>0</td>\n",
              "      <td>0</td>\n",
              "    </tr>\n",
              "    <tr>\n",
              "      <th>has_pool</th>\n",
              "      <td>0</td>\n",
              "      <td>0</td>\n",
              "      <td>0</td>\n",
              "      <td>0</td>\n",
              "      <td>0</td>\n",
              "    </tr>\n",
              "    <tr>\n",
              "      <th>has_garden</th>\n",
              "      <td>0</td>\n",
              "      <td>0</td>\n",
              "      <td>0</td>\n",
              "      <td>0</td>\n",
              "      <td>1</td>\n",
              "    </tr>\n",
              "    <tr>\n",
              "      <th>has_childrens_playroom</th>\n",
              "      <td>0</td>\n",
              "      <td>0</td>\n",
              "      <td>0</td>\n",
              "      <td>0</td>\n",
              "      <td>0</td>\n",
              "    </tr>\n",
              "    <tr>\n",
              "      <th>rent</th>\n",
              "      <td>1895</td>\n",
              "      <td>4575</td>\n",
              "      <td>5500</td>\n",
              "      <td>3500</td>\n",
              "      <td>2598</td>\n",
              "    </tr>\n",
              "    <tr>\n",
              "      <th>no_fee</th>\n",
              "      <td>0</td>\n",
              "      <td>0</td>\n",
              "      <td>1</td>\n",
              "      <td>1</td>\n",
              "      <td>0</td>\n",
              "    </tr>\n",
              "    <tr>\n",
              "      <th>description</th>\n",
              "      <td>2 bedroom 1 bath with private balcony gets gre...</td>\n",
              "      <td>Soho-Loft-Style living in Hells Kitchen! This ...</td>\n",
              "      <td>NO BROKER FEE.\\n\\nA south-facing 2 bedroom/2-b...</td>\n",
              "      <td>Call for additional details.</td>\n",
              "      <td>Just Rented! We Have Others When Available Con...</td>\n",
              "    </tr>\n",
              "    <tr>\n",
              "      <th>neighborhood</th>\n",
              "      <td>East Elmhurst</td>\n",
              "      <td>Midtown West</td>\n",
              "      <td>Midtown East</td>\n",
              "      <td>Upper East Side</td>\n",
              "      <td>Williamsburg</td>\n",
              "    </tr>\n",
              "    <tr>\n",
              "      <th>borough</th>\n",
              "      <td>Queens</td>\n",
              "      <td>Manhattan</td>\n",
              "      <td>Manhattan</td>\n",
              "      <td>Manhattan</td>\n",
              "      <td>Brooklyn</td>\n",
              "    </tr>\n",
              "    <tr>\n",
              "      <th>unit</th>\n",
              "      <td>3</td>\n",
              "      <td>3</td>\n",
              "      <td>5B</td>\n",
              "      <td>4A</td>\n",
              "      <td>3</td>\n",
              "    </tr>\n",
              "    <tr>\n",
              "      <th>floornumber</th>\n",
              "      <td>3</td>\n",
              "      <td>3</td>\n",
              "      <td>5</td>\n",
              "      <td>4</td>\n",
              "      <td>3</td>\n",
              "    </tr>\n",
              "    <tr>\n",
              "      <th>line</th>\n",
              "      <td>NaN</td>\n",
              "      <td>NaN</td>\n",
              "      <td>B</td>\n",
              "      <td>A</td>\n",
              "      <td>NaN</td>\n",
              "    </tr>\n",
              "  </tbody>\n",
              "</table>\n",
              "</div>"
            ],
            "text/plain": [
              "                                                                    651    ...                                              11697\n",
              "addr_unit                                                              #3  ...                                                 #3\n",
              "building_id                                                       1305769  ...                                             379990\n",
              "bedrooms                                                                2  ...                                                  2\n",
              "bathrooms                                                               1  ...                                                  1\n",
              "size_sqft                                                             800  ...                                                800\n",
              "created_at                                            2018-05-09 15:11:36  ...                                2018-05-22 20:36:55\n",
              "addr_street                                       80-21 ASTORIA BOULEVARD  ...                            858 METROPOLITAN AVENUE\n",
              "addr_city                                                   East Elmhurst  ...                                           Brooklyn\n",
              "addr_zip                                                            11370  ...                                              11211\n",
              "addr_lat                                                          40.7655  ...                                            40.7144\n",
              "addr_lon                                                         -73.8883  ...                                           -73.9404\n",
              "bin                                                           4.43019e+06  ...                                        3.07034e+06\n",
              "bbl                                                            4010330031  ...                                         3029160025\n",
              "floor_count                                                             3  ...                                                  4\n",
              "year_built                                                           1994  ...                                               1920\n",
              "min_to_subway                                                     19.8333  ...                                             2.6667\n",
              "has_doorman                                                             0  ...                                                  0\n",
              "has_elevator                                                            0  ...                                                  0\n",
              "has_fireplace                                                           0  ...                                                  0\n",
              "has_dishwasher                                                          1  ...                                                  0\n",
              "is_furnished                                                            0  ...                                                  0\n",
              "has_gym                                                                 0  ...                                                  0\n",
              "allows_pets                                                             0  ...                                                  0\n",
              "has_washer_dryer                                                        0  ...                                                  0\n",
              "has_garage                                                              0  ...                                                  0\n",
              "has_roofdeck                                                            0  ...                                                  0\n",
              "has_concierge                                                           0  ...                                                  0\n",
              "has_pool                                                                0  ...                                                  0\n",
              "has_garden                                                              0  ...                                                  1\n",
              "has_childrens_playroom                                                  0  ...                                                  0\n",
              "rent                                                                 1895  ...                                               2598\n",
              "no_fee                                                                  0  ...                                                  0\n",
              "description             2 bedroom 1 bath with private balcony gets gre...  ...  Just Rented! We Have Others When Available Con...\n",
              "neighborhood                                                East Elmhurst  ...                                       Williamsburg\n",
              "borough                                                            Queens  ...                                           Brooklyn\n",
              "unit                                                                    3  ...                                                  3\n",
              "floornumber                                                             3  ...                                                  3\n",
              "line                                                                  NaN  ...                                                NaN\n",
              "\n",
              "[38 rows x 5 columns]"
            ]
          },
          "metadata": {
            "tags": []
          },
          "execution_count": 407
        }
      ]
    },
    {
      "cell_type": "markdown",
      "metadata": {
        "id": "6FyzW_ySq0ZL",
        "colab_type": "text"
      },
      "source": [
        "Build training data"
      ]
    },
    {
      "cell_type": "code",
      "metadata": {
        "id": "wvXy81bGOZcv",
        "colab_type": "code",
        "colab": {}
      },
      "source": [
        "def get_cv_results(classifier, train_df):\n",
        "    results = []\n",
        "    k_fold = KFold(n_splits=10)\n",
        "    \n",
        "    for train, test in k_fold.split(train_df):\n",
        "        classifier.fit(train_df.loc[train, feature_cols], train_df.loc[train, 'rent'])\n",
        "        y_predicted = classifier.predict(train_df.loc[test, feature_cols])\n",
        "        accuracy = mean_squared_error(train_df.loc[test, 'rent'], y_predicted)\n",
        "        results.append(accuracy)\n",
        "    return np.mean(results), np.std(results)"
      ],
      "execution_count": 0,
      "outputs": []
    },
    {
      "cell_type": "code",
      "metadata": {
        "id": "NLkO24VOqwtw",
        "colab_type": "code",
        "colab": {}
      },
      "source": [
        "feature_cols = [\n",
        "     'bedrooms', 'year_built', 'bathrooms', 'min_to_subway', \n",
        "    'size_sqft', 'no_fee', 'has_doorman'          \n",
        "]\n",
        "train_features = train_df[feature_cols + ['rent']] \n",
        "#train_features = total_df[feature_cols] \n",
        "train_features = pd.get_dummies(train_features)\n",
        "# impute missing values with medians\n",
        "feature_cols = train_features.columns.drop('rent')\n",
        "#train_features = train_features.fillna(train_features.median(), axis=0)\n",
        "\n",
        "# construct target vector\n",
        "#train_target = train_df['rent']\n",
        "#train_target = total_df['rent']"
      ],
      "execution_count": 0,
      "outputs": []
    },
    {
      "cell_type": "code",
      "metadata": {
        "id": "c-td1qAmMRnE",
        "colab_type": "code",
        "colab": {}
      },
      "source": [
        "model_train_df, model_holdout_df = train_test_split(train_features, test_size=0.2)\n",
        "model_train_df.reset_index(inplace=True)\n",
        "model_holdout_df.reset_index(inplace=True)"
      ],
      "execution_count": 0,
      "outputs": []
    },
    {
      "cell_type": "markdown",
      "metadata": {
        "id": "lVf5eXOvrPBU",
        "colab_type": "text"
      },
      "source": [
        "Fit model"
      ]
    },
    {
      "cell_type": "code",
      "metadata": {
        "id": "9vftRK96Mska",
        "colab_type": "code",
        "colab": {
          "base_uri": "https://localhost:8080/",
          "height": 34
        },
        "outputId": "cbbb7a30-9491-4af8-8c14-6b089b833c82"
      },
      "source": [
        "lreg = LinearRegression()\n",
        "get_cv_results(lreg, model_train_df)\n",
        "\n"
      ],
      "execution_count": 411,
      "outputs": [
        {
          "output_type": "execute_result",
          "data": {
            "text/plain": [
              "(3870896.557156579, 983507.9924381691)"
            ]
          },
          "metadata": {
            "tags": []
          },
          "execution_count": 411
        }
      ]
    },
    {
      "cell_type": "code",
      "metadata": {
        "id": "8UMmk2k5aDE3",
        "colab_type": "code",
        "colab": {
          "base_uri": "https://localhost:8080/",
          "height": 88
        },
        "outputId": "ab384477-43f5-41d5-974c-add061fc47c6"
      },
      "source": [
        "\n",
        "rf = RandomForestRegressor()\n",
        "get_cv_results(rf, model_train_df)\n",
        "\n"
      ],
      "execution_count": 412,
      "outputs": [
        {
          "output_type": "stream",
          "text": [
            "/usr/local/lib/python3.6/dist-packages/sklearn/ensemble/forest.py:245: FutureWarning: The default value of n_estimators will change from 10 in version 0.20 to 100 in 0.22.\n",
            "  \"10 in version 0.20 to 100 in 0.22.\", FutureWarning)\n"
          ],
          "name": "stderr"
        },
        {
          "output_type": "execute_result",
          "data": {
            "text/plain": [
              "(2229883.2940650866, 832265.2322679556)"
            ]
          },
          "metadata": {
            "tags": []
          },
          "execution_count": 412
        }
      ]
    },
    {
      "cell_type": "code",
      "metadata": {
        "id": "avCkK7twaHe9",
        "colab_type": "code",
        "colab": {
          "base_uri": "https://localhost:8080/",
          "height": 34
        },
        "outputId": "3ae1764e-2261-485e-ab38-c49f26fb3f84"
      },
      "source": [
        "DTR = DecisionTreeRegressor(random_state = 0)\n",
        "get_cv_results(DTR, model_train_df)"
      ],
      "execution_count": 413,
      "outputs": [
        {
          "output_type": "execute_result",
          "data": {
            "text/plain": [
              "(4111453.150933468, 1402223.3496656518)"
            ]
          },
          "metadata": {
            "tags": []
          },
          "execution_count": 413
        }
      ]
    },
    {
      "cell_type": "code",
      "metadata": {
        "id": "3a-F-OXKaM1s",
        "colab_type": "code",
        "colab": {
          "base_uri": "https://localhost:8080/",
          "height": 34
        },
        "outputId": "ce65d6ff-d2b4-48fd-d713-ac72b2bdb700"
      },
      "source": [
        "gbr = GradientBoostingRegressor()\n",
        "get_cv_results(gbr, model_train_df)\n"
      ],
      "execution_count": 414,
      "outputs": [
        {
          "output_type": "execute_result",
          "data": {
            "text/plain": [
              "(2235965.897518594, 746687.1959656283)"
            ]
          },
          "metadata": {
            "tags": []
          },
          "execution_count": 414
        }
      ]
    },
    {
      "cell_type": "code",
      "metadata": {
        "id": "F-fLLQPeaPw6",
        "colab_type": "code",
        "colab": {
          "base_uri": "https://localhost:8080/",
          "height": 544
        },
        "outputId": "b66e28dc-ec5e-4214-be15-f22c5c66c222"
      },
      "source": [
        "xgbr = xgb.XGBRegressor()\n",
        "get_cv_results(xgbr, model_train_df)"
      ],
      "execution_count": 415,
      "outputs": [
        {
          "output_type": "stream",
          "text": [
            "/usr/local/lib/python3.6/dist-packages/xgboost/core.py:587: FutureWarning: Series.base is deprecated and will be removed in a future version\n",
            "  if getattr(data, 'base', None) is not None and \\\n"
          ],
          "name": "stderr"
        },
        {
          "output_type": "stream",
          "text": [
            "[07:26:57] WARNING: /workspace/src/objective/regression_obj.cu:152: reg:linear is now deprecated in favor of reg:squarederror.\n"
          ],
          "name": "stdout"
        },
        {
          "output_type": "stream",
          "text": [
            "/usr/local/lib/python3.6/dist-packages/xgboost/core.py:587: FutureWarning: Series.base is deprecated and will be removed in a future version\n",
            "  if getattr(data, 'base', None) is not None and \\\n"
          ],
          "name": "stderr"
        },
        {
          "output_type": "stream",
          "text": [
            "[07:26:57] WARNING: /workspace/src/objective/regression_obj.cu:152: reg:linear is now deprecated in favor of reg:squarederror.\n"
          ],
          "name": "stdout"
        },
        {
          "output_type": "stream",
          "text": [
            "/usr/local/lib/python3.6/dist-packages/xgboost/core.py:587: FutureWarning: Series.base is deprecated and will be removed in a future version\n",
            "  if getattr(data, 'base', None) is not None and \\\n"
          ],
          "name": "stderr"
        },
        {
          "output_type": "stream",
          "text": [
            "[07:26:58] WARNING: /workspace/src/objective/regression_obj.cu:152: reg:linear is now deprecated in favor of reg:squarederror.\n"
          ],
          "name": "stdout"
        },
        {
          "output_type": "stream",
          "text": [
            "/usr/local/lib/python3.6/dist-packages/xgboost/core.py:587: FutureWarning: Series.base is deprecated and will be removed in a future version\n",
            "  if getattr(data, 'base', None) is not None and \\\n"
          ],
          "name": "stderr"
        },
        {
          "output_type": "stream",
          "text": [
            "[07:26:58] WARNING: /workspace/src/objective/regression_obj.cu:152: reg:linear is now deprecated in favor of reg:squarederror.\n"
          ],
          "name": "stdout"
        },
        {
          "output_type": "stream",
          "text": [
            "/usr/local/lib/python3.6/dist-packages/xgboost/core.py:587: FutureWarning: Series.base is deprecated and will be removed in a future version\n",
            "  if getattr(data, 'base', None) is not None and \\\n"
          ],
          "name": "stderr"
        },
        {
          "output_type": "stream",
          "text": [
            "[07:26:58] WARNING: /workspace/src/objective/regression_obj.cu:152: reg:linear is now deprecated in favor of reg:squarederror.\n"
          ],
          "name": "stdout"
        },
        {
          "output_type": "stream",
          "text": [
            "/usr/local/lib/python3.6/dist-packages/xgboost/core.py:587: FutureWarning: Series.base is deprecated and will be removed in a future version\n",
            "  if getattr(data, 'base', None) is not None and \\\n"
          ],
          "name": "stderr"
        },
        {
          "output_type": "stream",
          "text": [
            "[07:26:59] WARNING: /workspace/src/objective/regression_obj.cu:152: reg:linear is now deprecated in favor of reg:squarederror.\n"
          ],
          "name": "stdout"
        },
        {
          "output_type": "stream",
          "text": [
            "/usr/local/lib/python3.6/dist-packages/xgboost/core.py:587: FutureWarning: Series.base is deprecated and will be removed in a future version\n",
            "  if getattr(data, 'base', None) is not None and \\\n"
          ],
          "name": "stderr"
        },
        {
          "output_type": "stream",
          "text": [
            "[07:26:59] WARNING: /workspace/src/objective/regression_obj.cu:152: reg:linear is now deprecated in favor of reg:squarederror.\n"
          ],
          "name": "stdout"
        },
        {
          "output_type": "stream",
          "text": [
            "/usr/local/lib/python3.6/dist-packages/xgboost/core.py:587: FutureWarning: Series.base is deprecated and will be removed in a future version\n",
            "  if getattr(data, 'base', None) is not None and \\\n"
          ],
          "name": "stderr"
        },
        {
          "output_type": "stream",
          "text": [
            "[07:27:00] WARNING: /workspace/src/objective/regression_obj.cu:152: reg:linear is now deprecated in favor of reg:squarederror.\n"
          ],
          "name": "stdout"
        },
        {
          "output_type": "stream",
          "text": [
            "/usr/local/lib/python3.6/dist-packages/xgboost/core.py:587: FutureWarning: Series.base is deprecated and will be removed in a future version\n",
            "  if getattr(data, 'base', None) is not None and \\\n"
          ],
          "name": "stderr"
        },
        {
          "output_type": "stream",
          "text": [
            "[07:27:00] WARNING: /workspace/src/objective/regression_obj.cu:152: reg:linear is now deprecated in favor of reg:squarederror.\n"
          ],
          "name": "stdout"
        },
        {
          "output_type": "stream",
          "text": [
            "/usr/local/lib/python3.6/dist-packages/xgboost/core.py:587: FutureWarning: Series.base is deprecated and will be removed in a future version\n",
            "  if getattr(data, 'base', None) is not None and \\\n"
          ],
          "name": "stderr"
        },
        {
          "output_type": "stream",
          "text": [
            "[07:27:00] WARNING: /workspace/src/objective/regression_obj.cu:152: reg:linear is now deprecated in favor of reg:squarederror.\n"
          ],
          "name": "stdout"
        },
        {
          "output_type": "execute_result",
          "data": {
            "text/plain": [
              "(2257748.181643103, 759774.0659399837)"
            ]
          },
          "metadata": {
            "tags": []
          },
          "execution_count": 415
        }
      ]
    },
    {
      "cell_type": "code",
      "metadata": {
        "id": "vkLY03UNrAA-",
        "colab_type": "code",
        "outputId": "307e32dd-629c-49da-b119-fc2f50643aa5",
        "colab": {
          "base_uri": "https://localhost:8080/",
          "height": 34
        }
      },
      "source": [
        "#lreg = LinearRegression()\n",
        "#lreg.fit(train_features, train_target)\n",
        "#  lreg.fit(model_train_df[feature_cols], model_train_df['rent'])\n",
        "#  predicted = lreg.predict(model_holdout_df[feature_cols])\n",
        " # mean_squared_error(model_holdout_df['rent'],predicted)\n",
        "\n",
        "#rf = RandomForestRegressor()\n",
        "#rf.fit(train_features, train_target)\n",
        "rf.fit(model_train_df[feature_cols], model_train_df['rent'])\n",
        "predicted = rf.predict(model_holdout_df[feature_cols])\n",
        "mean_squared_error(model_holdout_df['rent'],predicted)\n",
        "\n",
        "\n",
        "#DTR = DecisionTreeRegressor(random_state = 0)\n",
        "\n",
        "#DTR.fit(train_features, train_target);\n",
        "\n",
        "#gbr = GradientBoostingRegressor()\n",
        "#gbr.fit(train_features, train_target)\n",
        "\n",
        "\n",
        "#xgbr = xgb.XGBRegressor()\n",
        "#xgbr.fit(train_features, train_target)"
      ],
      "execution_count": 416,
      "outputs": [
        {
          "output_type": "execute_result",
          "data": {
            "text/plain": [
              "2501284.373309955"
            ]
          },
          "metadata": {
            "tags": []
          },
          "execution_count": 416
        }
      ]
    },
    {
      "cell_type": "code",
      "metadata": {
        "id": "eMY7lV6oc4az",
        "colab_type": "code",
        "colab": {
          "base_uri": "https://localhost:8080/",
          "height": 71
        },
        "outputId": "000649cc-f570-4042-d507-ca00916ecd45"
      },
      "source": [
        "#missing data for  df_submit\n",
        "\n",
        "cf2 = submit2_df #retaining the dataframe in cf instead incase I want to look at the original without edits\n",
        "cf2.min_to_subway = cf2.min_to_subway.fillna(cf2.min_to_subway.mean(), axis=0) #Replacing empty values with the mean of the entire column\n",
        "cf2.year_built = cf2.year_built.fillna(cf2.year_built.mean(), axis=0) #Replacing empty values with the median of the entire column\n",
        "cf2.floor_count = cf2.floor_count.fillna(cf2.floor_count.mean(), axis=0)\n",
        "cf2.floornumber = cf2.floornumber.fillna(cf2.floornumber.mean(), axis=0)\n",
        "cf2.size_sqft = cf2.size_sqft.fillna(cf2.size_sqft.mean(), axis=0)\n",
        "cf2.rent = cf2.fillna(lambda x: x.median())"
      ],
      "execution_count": 429,
      "outputs": [
        {
          "output_type": "stream",
          "text": [
            "/usr/local/lib/python3.6/dist-packages/ipykernel_launcher.py:8: UserWarning: Pandas doesn't allow columns to be created via a new attribute name - see https://pandas.pydata.org/pandas-docs/stable/indexing.html#attribute-access\n",
            "  \n"
          ],
          "name": "stderr"
        }
      ]
    },
    {
      "cell_type": "code",
      "metadata": {
        "id": "I2lUTHqjfkqM",
        "colab_type": "code",
        "colab": {
          "base_uri": "https://localhost:8080/",
          "height": 221
        },
        "outputId": "684a92d7-6761-4422-8a26-e206315db0a6"
      },
      "source": [
        "pd.isnull(submit2_df).sum() > 0"
      ],
      "execution_count": 430,
      "outputs": [
        {
          "output_type": "execute_result",
          "data": {
            "text/plain": [
              "building_id      False\n",
              "bedrooms         False\n",
              "bathrooms        False\n",
              "size_sqft        False\n",
              "addr_zip         False\n",
              "                 ...  \n",
              "rent_18772111    False\n",
              "rent_18772123    False\n",
              "rent_18772126    False\n",
              "rent_18772138    False\n",
              "rent_18772162    False\n",
              "Length: 8985, dtype: bool"
            ]
          },
          "metadata": {
            "tags": []
          },
          "execution_count": 430
        }
      ]
    },
    {
      "cell_type": "code",
      "metadata": {
        "id": "jZC0Vhu7eZG8",
        "colab_type": "code",
        "colab": {}
      },
      "source": [
        "\n",
        "submit2_df = pd.get_dummies(submit2_df)\n",
        "rf.fit(train_features[feature_cols], train_features.get('rent'))\n",
        "predicted = rf.predict(submit2_df[feature_cols])\n",
        "#mean_squared_error(submit2_df.get('rent'),predicted)"
      ],
      "execution_count": 0,
      "outputs": []
    },
    {
      "cell_type": "markdown",
      "metadata": {
        "id": "VJmtP3qOrVR3",
        "colab_type": "text"
      },
      "source": [
        "Predict and Measure Using Test 1"
      ]
    },
    {
      "cell_type": "code",
      "metadata": {
        "id": "JCyhk4LFrR2_",
        "colab_type": "code",
        "colab": {}
      },
      "source": [
        "'''\n",
        "test_features = test_df[feature_cols] \n",
        "\n",
        "# impute missing values with medians\n",
        "test_features = test_features.fillna(train_features.median(), axis=0)\n",
        "\n",
        "# construct predictions \n",
        "test_df['predicted'] = lreg.predict(test_features)\n",
        "\n",
        "mean_squared_error(test_df['rent'], test_df['predicted'])\n",
        "'''"
      ],
      "execution_count": 0,
      "outputs": []
    },
    {
      "cell_type": "markdown",
      "metadata": {
        "id": "_lp6m8worY4m",
        "colab_type": "text"
      },
      "source": [
        "Combine Data, Predict Values for Test 3"
      ]
    },
    {
      "cell_type": "code",
      "metadata": {
        "id": "fjeMfyIrrvIo",
        "colab_type": "code",
        "colab": {}
      },
      "source": [
        "'''\n",
        "master_df = train_df.append(test_df, sort=False)\n",
        "#master_df = total_df.append(test_df, sort=False)\n",
        "master_features = master_df[feature_cols].fillna(master_df[feature_cols].median(), axis=0)\n",
        "master_target = master_df['rent']\n",
        "\n",
        "rf.fit(master_features, master_target)\n",
        "'''"
      ],
      "execution_count": 0,
      "outputs": []
    },
    {
      "cell_type": "code",
      "metadata": {
        "id": "RA5TR2E0sWHt",
        "colab_type": "code",
        "colab": {}
      },
      "source": [
        "'''\n",
        "train_df.corr() #Looking at which features correlate the most with the rent from the training data\n",
        "#total_df.corr()\n",
        "'''"
      ],
      "execution_count": 0,
      "outputs": []
    },
    {
      "cell_type": "markdown",
      "metadata": {
        "id": "VRkzTVKPsare",
        "colab_type": "text"
      },
      "source": [
        "Create Submission File for test2"
      ]
    },
    {
      "cell_type": "code",
      "metadata": {
        "id": "pmhmhxezsYfl",
        "colab_type": "code",
        "colab": {}
      },
      "source": [
        "'''\n",
        "submit2_features = submit2_df[feature_cols].fillna(master_df[feature_cols].median(), axis=0)\n",
        "submit2_df['predictions'] = rf.predict(submit2_features) \n",
        "submit2_df['predictions'].to_csv('sample_submission1.csv', header=True)\n",
        "\n",
        "submit2_df['fake_rent'] = np.ones(submit2_df['predictions'].shape) * master_target.median()\n",
        "mean_squared_error(submit2_df['predictions'], test_df['rent'])\n",
        "'''"
      ],
      "execution_count": 0,
      "outputs": []
    },
    {
      "cell_type": "code",
      "metadata": {
        "id": "dPEotD2VxrOl",
        "colab_type": "code",
        "colab": {}
      },
      "source": [
        "'''\n",
        "test=submit2_df.sort_values(['predictions'],ascending=[1])\n",
        "print(test)\n",
        "'''"
      ],
      "execution_count": 0,
      "outputs": []
    },
    {
      "cell_type": "code",
      "metadata": {
        "id": "M7FRCBjy6N_k",
        "colab_type": "code",
        "colab": {}
      },
      "source": [
        "'''\n",
        "submit2_features = submit2_df[feature_cols].fillna(master_df[feature_cols].median(), axis=0)\n",
        "submit2_df['predictions'] = xgbr.predict(submit2_features) \n",
        "submit2_df['predictions'].to_csv('sample_submission1.csv', header=True)\n",
        "\n",
        "submit2_df['fake_rent'] = np.ones(submit2_df['predictions'].shape) * master_target.median()\n",
        "mean_squared_error(submit2_df['predictions'], test_df['rent'])\n",
        "'''"
      ],
      "execution_count": 0,
      "outputs": []
    },
    {
      "cell_type": "code",
      "metadata": {
        "id": "Q-vb88taxQbK",
        "colab_type": "code",
        "colab": {}
      },
      "source": [
        "'''\n",
        "test=submit2_df.sort_values(['predictions'],ascending=[1])\n",
        "print(test)\n",
        "'''"
      ],
      "execution_count": 0,
      "outputs": []
    },
    {
      "cell_type": "code",
      "metadata": {
        "id": "HesKt8-vwFk0",
        "colab_type": "code",
        "colab": {}
      },
      "source": [
        "'''\n",
        "submit2_features = submit2_df[feature_cols].fillna(master_df[feature_cols].median(), axis=0)\n",
        "submit2_df['predictions'] = gbr.predict(submit2_features) \n",
        "submit2_df['predictions'].to_csv('sample_submission1.csv', header=True)\n",
        "\n",
        "submit2_df['fake_rent'] = np.ones(submit2_df['predictions'].shape) * master_target.median()\n",
        "mean_squared_error(submit2_df['predictions'], test_df['rent'])\n",
        "'''"
      ],
      "execution_count": 0,
      "outputs": []
    },
    {
      "cell_type": "code",
      "metadata": {
        "id": "s5lfYDQmxGPN",
        "colab_type": "code",
        "colab": {}
      },
      "source": [
        "'''\n",
        "test=submit2_df.sort_values(['predictions'],ascending=[1])\n",
        "print(test)\n",
        "'''"
      ],
      "execution_count": 0,
      "outputs": []
    },
    {
      "cell_type": "code",
      "metadata": {
        "id": "63zk5riywPfj",
        "colab_type": "code",
        "colab": {}
      },
      "source": [
        "'''\n",
        "submit2_features = submit2_df[feature_cols].fillna(master_df[feature_cols].median(), axis=0)\n",
        "submit2_df['predictions'] = lreg.predict(submit2_features) \n",
        "submit2_df['predictions'].to_csv('sample_submission1.csv', header=True)\n",
        "\n",
        "submit2_df['fake_rent'] = np.ones(submit2_df['predictions'].shape) * master_target.median()\n",
        "mean_squared_error(submit2_df['predictions'], test_df['rent'])\n",
        "'''"
      ],
      "execution_count": 0,
      "outputs": []
    },
    {
      "cell_type": "code",
      "metadata": {
        "id": "F7N6FwDjxB0W",
        "colab_type": "code",
        "colab": {}
      },
      "source": [
        "'''\n",
        "test=submit2_df.sort_values(['predictions'],ascending=[1])\n",
        "print(test)\n",
        "'''"
      ],
      "execution_count": 0,
      "outputs": []
    },
    {
      "cell_type": "code",
      "metadata": {
        "id": "hucI7QxowZJi",
        "colab_type": "code",
        "colab": {}
      },
      "source": [
        "''''\n",
        "submit2_features = submit2_df[feature_cols].fillna(master_df[feature_cols].median(), axis=0)\n",
        "submit2_df['predictions'] = DTR.predict(submit2_features) \n",
        "submit2_df['predictions'].to_csv('sample_submission1.csv', header=True)\n",
        "\n",
        "submit2_df['fake_rent'] = np.ones(submit2_df['predictions'].shape) * master_target.median()\n",
        "mean_squared_error(submit2_df['predictions'], test_df['rent'])\n",
        "'''"
      ],
      "execution_count": 0,
      "outputs": []
    },
    {
      "cell_type": "code",
      "metadata": {
        "id": "U6wfv6UPwqlh",
        "colab_type": "code",
        "colab": {}
      },
      "source": [
        "'''\n",
        "test=submit2_df.sort_values(['predictions'],ascending=[1])\n",
        "print(test)\n",
        "'''"
      ],
      "execution_count": 0,
      "outputs": []
    },
    {
      "cell_type": "code",
      "metadata": {
        "id": "6-l-gKTWshcM",
        "colab_type": "code",
        "colab": {}
      },
      "source": [
        "#files.download(\"sample_submission1.csv\")"
      ],
      "execution_count": 0,
      "outputs": []
    },
    {
      "cell_type": "code",
      "metadata": {
        "id": "0-Fhxu6ctzTX",
        "colab_type": "code",
        "colab": {}
      },
      "source": [
        "test['predictions'].hist() #Confirming largest predicted rent is 15516 visually. As expected we see that there are more apartments ranging from 2k-3k than any other price range."
      ],
      "execution_count": 0,
      "outputs": []
    },
    {
      "cell_type": "code",
      "metadata": {
        "id": "SWK9XSy91IQi",
        "colab_type": "code",
        "colab": {}
      },
      "source": [
        "submit2_df.isna().sum()"
      ],
      "execution_count": 0,
      "outputs": []
    },
    {
      "cell_type": "code",
      "metadata": {
        "id": "S8rbhJEiWaON",
        "colab_type": "code",
        "colab": {}
      },
      "source": [
        ""
      ],
      "execution_count": 0,
      "outputs": []
    }
  ]
}